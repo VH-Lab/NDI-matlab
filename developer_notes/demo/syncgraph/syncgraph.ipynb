{
 "cells": [
  {
   "cell_type": "markdown",
   "metadata": {},
   "source": [
    "# ndi_syncgraph demo\n",
    "\n",
    "This demo will showcase the use and operating principles of the class **ndi_syncgraph**. \n",
    "\n",
    "Note: some user intervention is required to open some of the demo data below. One must add one's own path to the 2014-05-09 experiment.\n"
   ]
  },
  {
   "cell_type": "markdown",
   "metadata": {},
   "source": [
    "## Part 1: Background: what is ndi_syncgraph used for and what objects are used?\n",
    "\n",
    "Different daqsystems usually have their own independent clocks and time offsets. Let's explore this by the way of some examples.\n",
    "\n",
    "*Example 1: Simultaneous use of acquisition system A and B:*\n",
    "\n",
    "Let's imagine that we have on our rig a data acquisition system by company A and another data acquisition system by company B. The scientist wants to record data using both of these systems. He/she turns on the acquisition system A, which begins logging data, and then, a few seconds later, turns on the acquisition system B, which also begins logging data. Usually, each epoch of data begins at a time t=0 on each acquisition system's local clock, and each sample is acquired at the sampling rate of that device. The problem is that the data acquired on acquisition system A and the data acquired on system B will almost necessarily not share the same time units.\n",
    "\n",
    "Let's consider the time units of the samples on a daqsystem AA that manages data from acquisition system A. Almost always, the device will have a local label of the time of its samples, beginning at some t0 and continuing until t1 in increments of 1/sample_rate. In NDI, we call this `dev_local_time`. Some (rare) devices might also have an external clock input that expresses this time relative to some external clock. For example, one might imagine that there is some precise clock in the lab sending digital triggers at regular intervals to keep time, and perhaps the device has the option of labeling its time units according to this external clock. This external clock could be internal to the lab, and we call such a clock `exp_global_time`. Even better, this external clock could be synchronized to universal controlled time, and we call such a clock `utc`. \n",
    "\n",
    "In addition, devices sometimes know the time of their samples approximately relative to an external clock. For example, data acquisition system A might include a timestamp in its data file that indicates the time of the beginning of acquisition relative to the computer's internal clock. This time is not usually accurate at the level of tens of milliseconds, and generally can't be used to synchronize signals across systems at a resolution better than a couple seconds. We call such clocks `approx_exp_global_time` and `approx_utc`.\n",
    "\n",
    "There is a data class, `ndi_clocktype`, that enumerates these possible clocks."
   ]
  },
  {
   "cell_type": "code",
   "execution_count": 74,
   "metadata": {},
   "outputs": [
    {
     "name": "stdout",
     "output_type": "stream",
     "text": [
      "  SETCLOCKTYPE - Set the type of an NDI_CLOCKTYPE\n",
      " \n",
      "  NDI_CLOCKTYPE_OBJ = SETCLOCKTYPE(NDI_CLOCKTYPE_OBJ, TYPE)\n",
      " \n",
      "  Sets the TYPE property of an NDI_CLOCKTYPE object NDI_CLOCKTYPE_OBJ.\n",
      "  Valid values for the TYPE string are as follows:\n",
      " \n",
      "  TYPE string               | Description\n",
      "  ------------------------------------------------------------------------------\n",
      "  'utc'                     | Universal coordinated time (within 0.1ms)\n",
      "  'approx_utc'              | Universal coordinated time (within 5 seconds)\n",
      "  'exp_global_time'         | Experiment global time (within 0.1ms)\n",
      "  'approx_exp_global_time'  | Experiment global time (within 5s)\n",
      "  'dev_global_time'         | A device keeps its own global time (within 0.1ms) \n",
      "                            |   (that is, it knows its own clock across recording epochs)\n",
      "  'approx_dev_global_time'  |  A device keeps its own global time (within 5 s) \n",
      "                            |   (that is, it knows its own clock across recording epochs)\n",
      "  'dev_local_time'          | A device keeps its own local time only within epochs\n",
      "  'no_time'                 | No timing information\n",
      "  'inherited'               | The timing information is inherited from another device.\n",
      "\n"
     ]
    }
   ],
   "source": [
    "help ndi_clocktype/setclocktype"
   ]
  },
  {
   "cell_type": "markdown",
   "metadata": {},
   "source": [
    "We can illustrate this by viewing an epochtable from an example experiment:"
   ]
  },
  {
   "cell_type": "code",
   "execution_count": 75,
   "metadata": {},
   "outputs": [
    {
     "name": "stdout",
     "output_type": "stream",
     "text": [
      "\n",
      "ans = \n",
      "\n",
      "  struct with fields:\n",
      "\n",
      "         epoch_number: 1\n",
      "             epoch_id: 'epoch_4126821d51dbc2cc_3fe1fc5cf5c69eff'\n",
      "        epochprobemap: []\n",
      "          epoch_clock: {[1x1 ndi_clocktype]}\n",
      "                t0_t1: {[0 3.0000]}\n",
      "    underlying_epochs: [1x1 struct]\n",
      "\n"
     ]
    }
   ],
   "source": [
    "ndi_globals;\n",
    "dirname = [ndiexampleexperpath filesep 'exp1_eg_saved'];\n",
    "E = ndi_experiment_dir(dirname);\n",
    "probes = E.getprobes();\n",
    " % compute the epochtable for this probe\n",
    "et = probes{1}.epochtable();\n",
    " % let's examine the epochtable\n",
    "et(1)"
   ]
  },
  {
   "cell_type": "markdown",
   "metadata": {},
   "source": [
    "We see that this epoch has a single epoch_clock type, but that it could potentially have a list of many different times. t0_t1 provides the time of the first and last samples in the units of the respective ndi_clocktype; for example, t0_t1{1} provides the time of the first and last samples in units of epoch_clock{1}. Let's look at this quantity for this epoch."
   ]
  },
  {
   "cell_type": "code",
   "execution_count": 76,
   "metadata": {},
   "outputs": [
    {
     "name": "stdout",
     "output_type": "stream",
     "text": [
      "\n",
      "ans = \n",
      "\n",
      "  ndi_clocktype with properties:\n",
      "\n",
      "    type: 'dev_local_time'\n",
      "\n"
     ]
    }
   ],
   "source": [
    "et(1).epoch_clock{1}"
   ]
  },
  {
   "cell_type": "markdown",
   "metadata": {},
   "source": [
    "*Example 2: Simultaneous use of acquisition system A by different daqsystems:*\n",
    "\n",
    "We can also imagine a situation where two daqsystems might manage data acquired by the same data acquisition device A. Let's imagine a daqsystem AA that manages data related to electrode recordings, and another daqsystem BB that combines information across multiple data acquisition systems, including A. As a concrete example, in my lab we typically acquire data on a single multifunction data acquisition system (by CED) related to both electrode recordings and digital triggers from our stimulus computer. We have an ndi_daqsystem_mfdaq object that manages the electrode data, but we have another object, a subclass of both type `ndi_daqsystem_mfdaq` and `ndi_daqsystem_stimulus`, that reads from the data acquisition system but also reads from status files generated by the stimulus computer. Therefore, one of the files that is used by both daqsystems is in common (the output file of the CED system), and this information can be used for synchronization."
   ]
  },
  {
   "cell_type": "markdown",
   "metadata": {},
   "source": [
    "So, suppose we want to know what time t in epoch n on daqsystem A translates to on daqsystem B? Which epoch m and which time t_prime corresponds? \n",
    "\n",
    "To calculate this, we need some way of finding how to map these two epochs onto each other. NDI specifies this problem at 2 levels. \n",
    "\n",
    "First, there is the level of the strategy that is used to synchronize the devices. These strategies are codified in `ndi_syncrule` objects. For example, if two daq systems acquire a common reference signal, then the channel numbers that acquire these reference channels can be passed to an (as yet undeveloped) ndi_syncrule class that receives this information.\n",
    "\n",
    "The ndi_syncrule objects are used to create mappings between times and epochs across daq systems. These mappings are expressed in `ndi_timemapping` objects.\n",
    "\n",
    "Let's look at these objects in more detail."
   ]
  },
  {
   "cell_type": "code",
   "execution_count": 77,
   "metadata": {},
   "outputs": [
    {
     "name": "stdout",
     "output_type": "stream",
     "text": [
      "  NDI_SYNCRULE_OBJ - create a new NDI_SYNCRULE for managing synchronization\n",
      " \n",
      "  NDI_SYNCRULE_OBJ = NDI_SYNCRULE(...)\n",
      "   or\n",
      "  NDI_SYNCRULE_OBJ = NDI_SYNCRULE(PARAMETERS)\n",
      " \n",
      "  Creates a new NDI_SYNCRULE object with the given PARAMETERS (a structure).\n",
      "  This is an abstract class, so PARAMETERS must be empty.\n",
      "\n",
      "    Reference page in Doc Center\n",
      "       doc ndi_syncrule\n",
      "\n",
      "\n"
     ]
    }
   ],
   "source": [
    "help ndi_syncrule"
   ]
  },
  {
   "cell_type": "markdown",
   "metadata": {},
   "source": [
    "The only ndi_syncrule that is developed at this time is `ndi_syncrule_filematch`, which catches the condition that some of the files that make up the epochs on the 2 daqsystems match."
   ]
  },
  {
   "cell_type": "code",
   "execution_count": 78,
   "metadata": {},
   "outputs": [
    {
     "name": "stdout",
     "output_type": "stream",
     "text": [
      "  NDI_SYNCRULE_FILEMATCH_OBJ - create a new NDI_SYNCRULE_FILEMATCH for managing synchronization\n",
      " \n",
      "  NDI_SYNCRULE_FILEMATCH_OBJ = NDI_SYNCRULE_FILEMATCH()\n",
      "       or\n",
      "  NDI_SYNCRULE_FILEMATCH_OBJ = NDI_SYNCRULE_FILEMATCH(PARAMETERS)\n",
      " \n",
      "  Creates a new NDI_SYNCRULE_FILEMATCH object with the given PARAMETERS (a structure, see below).\n",
      "  If no inputs are provided, then the default PARAMETERS (see below) is used.\n",
      " \n",
      "  PARAMETERS should be a structure with the following entries:\n",
      "  Field (default)              | Description\n",
      "  -------------------------------------------------------------------\n",
      "  number_fullpath_matches (2)  | The number of full path matches of the underlying \n",
      "                               |  filenames that must match in order for the epochs to match.\n",
      "\n",
      "    Reference page in Doc Center\n",
      "       doc ndi_syncrule_filematch\n",
      "\n",
      "\n"
     ]
    }
   ],
   "source": [
    "help ndi_syncrule_filematch"
   ]
  },
  {
   "cell_type": "code",
   "execution_count": 79,
   "metadata": {},
   "outputs": [
    {
     "name": "stdout",
     "output_type": "stream",
     "text": [
      "\n",
      "Methods for class ndi_syncrule_filematch:\n",
      "\n",
      "apply                   ineligibleclocks        searchquery             \n",
      "eligibleclocks          ineligibleepochsets     setparameters           \n",
      "eligibleepochsets       isvalidparameters       \n",
      "eq                      ndi_syncrule_filematch  \n",
      "id                      newdocument             \n",
      "\n"
     ]
    }
   ],
   "source": [
    "methods('ndi_syncrule_filematch')"
   ]
  },
  {
   "cell_type": "code",
   "execution_count": 80,
   "metadata": {},
   "outputs": [
    {
     "name": "stdout",
     "output_type": "stream",
     "text": [
      "  APPLY - apply an NDI_SYNCRULE_FILEMATCH to obtain a cost and NDI_TIMEMAPPING between two NDI_EPOCHSET objects\n",
      " \n",
      "  [COST, MAPPING] = APPLY(NDI_SYNCRULE_FILEMATCH_OBJ, EPOCHNODE_A, EPOCHNODE_B)\n",
      " \n",
      "  Given an NDI_SYNCRULE_FILEMATCH object and two EPOCHNODES (see NDI_EPOCHSET/EPOCHNODES),\n",
      "  this function attempts to identify whether a time synchronization can be made across these epochs. If so,\n",
      "  a cost COST and an NDI_TIMEMAPPING object MAPPING is returned.\n",
      " \n",
      "  Otherwise, COST and MAPPING are empty.\n",
      "\n"
     ]
    }
   ],
   "source": [
    "help ndi_syncrule_filematch/apply"
   ]
  },
  {
   "cell_type": "code",
   "execution_count": 81,
   "metadata": {},
   "outputs": [
    {
     "name": "stdout",
     "output_type": "stream",
     "text": [
      "  NDI_TIMEMAPPING - class for managing mapping of time across epochs and devices\n",
      " \n",
      "  Describes mapping from one time base to another. The base class, NDI_TIMEMAPPING, provides\n",
      "  polynomial mapping, although usually only linear mapping is used.\n",
      "  The property MAPPING is a vector of length N+1 that describes the coefficients of a\n",
      "  polynomial such that:\n",
      " \n",
      "  t_out = mapping(1)*t_in^N + mapping(2)*t_in^(N-1) + ... mapping(N)*t_in + mapping(N+1)\n",
      " \n",
      "  Usually, one specifies a linear relationship only, with MAPPING = [scale shift] so that\n",
      " \n",
      "  t_out = scale * t_in + shift\n",
      "\n",
      "    Reference page in Doc Center\n",
      "       doc ndi_timemapping\n",
      "\n",
      "\n"
     ]
    }
   ],
   "source": [
    "help ndi_timemapping"
   ]
  },
  {
   "cell_type": "code",
   "execution_count": 82,
   "metadata": {},
   "outputs": [
    {
     "name": "stdout",
     "output_type": "stream",
     "text": [
      "\n",
      "Methods for class ndi_timemapping:\n",
      "\n",
      "map              ndi_timemapping  \n",
      "\n"
     ]
    }
   ],
   "source": [
    "methods('ndi_timemapping')"
   ]
  },
  {
   "cell_type": "code",
   "execution_count": 83,
   "metadata": {},
   "outputs": [
    {
     "name": "stdout",
     "output_type": "stream",
     "text": [
      "  MAP - perform a mapping from one time base to another\n",
      " \n",
      "  T_OUT = MAP(NDI_TIMEMAPPING_OBJ, T_IN)\n",
      " \n",
      "  Perform the mapping described by NDI_TIMEMAPPING_OBJ from one time base to another.\n",
      " \n",
      "  In the base class NDI_TIMEMAPPING, the mapping is a polynomial.\n",
      "\n"
     ]
    }
   ],
   "source": [
    "help ndi_timemapping/map"
   ]
  },
  {
   "cell_type": "markdown",
   "metadata": {},
   "source": [
    "## Part 2: Demo: using syncgraph\n",
    "\n",
    "Now we will open an experiment that has 2 daqsystems and we'll show the ease that syncgraph provides to the user. \n",
    "\n",
    "*You will need the latest version of 2014-05-09 from the SquishyShare*."
   ]
  },
  {
   "cell_type": "code",
   "execution_count": 84,
   "metadata": {},
   "outputs": [
    {
     "name": "stdout",
     "output_type": "stream",
     "text": [
      "\n",
      "prefix =\n",
      "\n",
      "    '/Users/vanhoosr/Desktop'\n",
      "\n"
     ]
    }
   ],
   "source": [
    "prefix = ['/Users/vanhoosr/Desktop'] % edit this for your system"
   ]
  },
  {
   "cell_type": "code",
   "execution_count": 85,
   "metadata": {},
   "outputs": [
    {
     "name": "stdout",
     "output_type": "stream",
     "text": [
      "\n",
      "E2 = \n",
      "\n",
      "  ndi_experiment_dir with properties:\n",
      "\n",
      "                path: '/Users/vanhoosr/Desktop/2014-05-09'\n",
      "           reference: '2014-05-09'\n",
      "    unique_reference: '412684472cf40177_3feddc959c9bd904'\n",
      "           daqsystem: [1x1 ndi_dbleaf_branch]\n",
      "           syncgraph: [1x1 ndi_syncgraph]\n",
      "               cache: [1x1 ndi_cache]\n",
      "\n",
      "\n",
      "probes =\n",
      "\n",
      "  1x3 cell array\n",
      "\n",
      "  Columns 1 through 2\n",
      "\n",
      "    {1x1 ndi_probe_timeseries_mfdaq}    {1x1 ndi_probe_timeseries_mfdaq}\n",
      "\n",
      "  Column 3\n",
      "\n",
      "    {1x1 ndi_probe_timeseries_stimulator}\n",
      "\n",
      "\n",
      "ans = \n",
      "\n",
      "  ndi_probe_timeseries_mfdaq with properties:\n",
      "\n",
      "          experiment: [1x1 ndi_experiment_dir]\n",
      "                name: 'intra'\n",
      "                type: 'sharp-Vm'\n",
      "           reference: 31\n",
      "    underlying_thing: []\n",
      "              direct: 1\n",
      "\n",
      "\n",
      "ans = \n",
      "\n",
      "  ndi_probe_timeseries_mfdaq with properties:\n",
      "\n",
      "          experiment: [1x1 ndi_experiment_dir]\n",
      "                name: 'intra'\n",
      "                type: 'sharp-Vm'\n",
      "           reference: 32\n",
      "    underlying_thing: []\n",
      "              direct: 1\n",
      "\n",
      "\n",
      "ans = \n",
      "\n",
      "  ndi_probe_timeseries_stimulator with properties:\n",
      "\n",
      "          experiment: [1x1 ndi_experiment_dir]\n",
      "                name: 'vhvis_spike2'\n",
      "                type: 'stimulator'\n",
      "           reference: 1\n",
      "    underlying_thing: []\n",
      "              direct: 1\n",
      "\n"
     ]
    }
   ],
   "source": [
    "% Let's open up an experiment and examine the probes\n",
    "E2 = ndi_experiment_dir([prefix filesep '2014-05-09'])\n",
    "probes = E2.getprobes()\n",
    "probes{1}, probes{2}, probes{3}"
   ]
  },
  {
   "cell_type": "code",
   "execution_count": 86,
   "metadata": {},
   "outputs": [
    {
     "name": "stdout",
     "output_type": "stream",
     "text": [
      "\n",
      "timeref = \n",
      "\n",
      "  ndi_timereference with properties:\n",
      "\n",
      "     referent: [1x1 ndi_probe_timeseries_mfdaq]\n",
      "    clocktype: [1x1 ndi_clocktype]\n",
      "        epoch: 1\n",
      "         time: 0\n",
      "\n"
     ]
    }
   ],
   "source": [
    "% let's work with the first electrode channel, and the stimulus\n",
    "sharpprobe = probes{1};\n",
    "stimprobe = probes{3};\n",
    "\n",
    "[data,t,timeref] = sharpprobe.readtimeseries(1,50,90); % read some data\n",
    " % this function returns the data and timestamps, as well as a timeref\n",
    " % that describes where the data came from\n",
    " timeref"
   ]
  },
  {
   "cell_type": "code",
   "execution_count": 87,
   "metadata": {},
   "outputs": [],
   "source": [
    "% now we can use that timeref to read from the stimulator in the time base of the sharp electrode probe\n",
    "[ds,ts]=stimprobe.readtimeseries(timeref, t(1), t(end));\n",
    "% easy as pie\n"
   ]
  },
  {
   "cell_type": "code",
   "execution_count": 88,
   "metadata": {},
   "outputs": [
    {
     "data": {
      "image/png": "[encoded data removed]",
      "text/plain": [
       "<IPython.core.display.Image object>"
      ]
     },
     "metadata": {},
     "output_type": "display_data"
    }
   ],
   "source": [
    "% now let's plot these together; we will use a helper function plot_stimulus_timeseries that plots\n",
    "% stimulus numbers at their times of presentation\n",
    "plot_stimulus_timeseries(0,ts.stimon,ts.stimoff,'stimid',ds.stimid,'textycoord',0.2);\n",
    "hold on\n",
    "plot(t,data,'b');\n",
    "xlabel('Time (sec)');\n",
    "ylabel('Membrane potential (V)');\n",
    "axis([50 90 -1.1 0.3])\n",
    " % the black lines and the blue lines are from data from different daqsystems"
   ]
  },
  {
   "cell_type": "markdown",
   "metadata": {},
   "source": [
    "## Part 3: Demo: how did syncgraph do it?\n",
    "\n",
    "Now we will explore how syncgraph accomplished this feat. \n",
    "\n",
    "The probe epochs are derived from their daqsystem epochs, which are in turn derived from their filenavigator epochs. These epochs are all equivalent in acquisition times, but exist at different object levels. Let's follow this for the sharpprobe here."
   ]
  },
  {
   "cell_type": "code",
   "execution_count": 89,
   "metadata": {},
   "outputs": [
    {
     "name": "stdout",
     "output_type": "stream",
     "text": [
      "\n",
      "et_sharp = \n",
      "\n",
      "  struct with fields:\n",
      "\n",
      "         epoch_number: 1\n",
      "             epoch_id: 't00012'\n",
      "        epochprobemap: []\n",
      "          epoch_clock: {[1x1 ndi_clocktype]}\n",
      "                t0_t1: {[0 501.2731]}\n",
      "    underlying_epochs: [1x1 struct]\n",
      "\n",
      "\n",
      "et_sharp_underlying = \n",
      "\n",
      "  struct with fields:\n",
      "\n",
      "       underlying: [1x1 ndi_daqsystem_mfdaq]\n",
      "         epoch_id: 't00012'\n",
      "    epochprobemap: [1x1 ndi_epochprobemap_daqsystem_vhlab]\n",
      "      epoch_clock: {[1x1 ndi_clocktype]}\n",
      "            t0_t1: {[0 501.2731]}\n",
      "\n"
     ]
    }
   ],
   "source": [
    "et_sharp = sharpprobe.epochtable()\n",
    "et_sharp_underlying = et_sharp(1).underlying_epochs"
   ]
  },
  {
   "cell_type": "markdown",
   "metadata": {},
   "source": [
    "We refer to the set of all underlying epochs along with each clocktype that each epoch has as the **epoch nodes**."
   ]
  },
  {
   "cell_type": "code",
   "execution_count": 90,
   "metadata": {},
   "outputs": [
    {
     "name": "stdout",
     "output_type": "stream",
     "text": [
      "\n",
      "enodes = \n",
      "\n",
      "  struct with fields:\n",
      "\n",
      "             epoch_id: 't00012'\n",
      "        epochprobemap: []\n",
      "          epoch_clock: [1x1 ndi_clocktype]\n",
      "                t0_t1: [0 501.2731]\n",
      "    underlying_epochs: [1x1 struct]\n",
      "           objectname: 'probe: intra | 31'\n",
      "          objectclass: 'ndi_probe_timeseries_mfdaq'\n",
      "\n"
     ]
    }
   ],
   "source": [
    "[enodes] = sharpprobe.epochnodes()"
   ]
  },
  {
   "cell_type": "code",
   "execution_count": 91,
   "metadata": {},
   "outputs": [
    {
     "name": "stdout",
     "output_type": "stream",
     "text": [
      "\n",
      "ans = \n",
      "\n",
      "  struct with fields:\n",
      "\n",
      "       underlying: [1x1 ndi_daqsystem_mfdaq]\n",
      "         epoch_id: 't00012'\n",
      "    epochprobemap: [1x1 ndi_epochprobemap_daqsystem_vhlab]\n",
      "      epoch_clock: {[1x1 ndi_clocktype]}\n",
      "            t0_t1: {[0 501.2731]}\n",
      "\n"
     ]
    }
   ],
   "source": [
    "enodes(1).underlying_epochs"
   ]
  },
  {
   "cell_type": "code",
   "execution_count": 92,
   "metadata": {},
   "outputs": [
    {
     "name": "stdout",
     "output_type": "stream",
     "text": [
      "\n",
      "sg = \n",
      "\n",
      "  ndi_syncgraph with properties:\n",
      "\n",
      "        experiment: [1x1 ndi_experiment_dir]\n",
      "             rules: {[1x1 ndi_syncrule_filematch]}\n",
      "    objectfilename: 'object_412684472cf40763_3fe907a6441c1b1b'\n",
      "        identifier: '412684b939f245ca_3fdf6a5139fb9786'\n",
      "\n"
     ]
    }
   ],
   "source": [
    "sg = E2.syncgraph"
   ]
  },
  {
   "cell_type": "markdown",
   "metadata": {},
   "source": [
    "We can examine the graph among epochnodes that was built by syncgraph:"
   ]
  },
  {
   "cell_type": "code",
   "execution_count": 93,
   "metadata": {},
   "outputs": [
    {
     "name": "stdout",
     "output_type": "stream",
     "text": [
      "\n",
      "cache = \n",
      "\n",
      "  ndi_cache with properties:\n",
      "\n",
      "           maxMemory: 100000000\n",
      "    replacement_rule: 'fifo'\n",
      "               table: [1x12 struct]\n",
      "\n",
      "\n",
      "key =\n",
      "\n",
      "    'object_412684472cf40763_3fe907a6441c1b1b'\n",
      "\n",
      "\n",
      "match =\n",
      "\n",
      "    12\n",
      "\n",
      "\n",
      "GI = \n",
      "\n",
      "  struct with fields:\n",
      "\n",
      "      nodes: [1x12 struct]\n",
      "          G: [12x12 double]\n",
      "    mapping: {12x12 cell}\n",
      "        diG: [1x1 digraph]\n",
      "\n"
     ]
    }
   ],
   "source": [
    "%We can pull out syncgraph's graph and mapping functions from the experiment's cache:\n",
    "[cache,key] = getcache(sg)\n",
    "match = find(strcmp(key,{cache.table.key}))\n",
    "GI = cache.table(match).data.graphinfo"
   ]
  },
  {
   "cell_type": "code",
   "execution_count": 94,
   "metadata": {},
   "outputs": [
    {
     "name": "stdout",
     "output_type": "stream",
     "text": [
      "\n",
      "i =\n",
      "\n",
      "     1\n",
      "\n",
      "\n",
      "ans = \n",
      "\n",
      "  struct with fields:\n",
      "\n",
      "             epoch_id: 't00012'\n",
      "        epochprobemap: [1x1 ndi_epochprobemap_daqsystem_vhlab]\n",
      "          epoch_clock: [1x1 ndi_clocktype]\n",
      "                t0_t1: [0 501.2731]\n",
      "    underlying_epochs: [1x1 struct]\n",
      "           objectname: 'vhspike2'\n",
      "          objectclass: 'ndi_daqsystem_mfdaq'\n",
      "\n",
      "\n",
      "i =\n",
      "\n",
      "     2\n",
      "\n",
      "\n",
      "ans = \n",
      "\n",
      "  struct with fields:\n",
      "\n",
      "             epoch_id: 't00013'\n",
      "        epochprobemap: [1x1 ndi_epochprobemap_daqsystem_vhlab]\n",
      "          epoch_clock: [1x1 ndi_clocktype]\n",
      "                t0_t1: [0 709.4035]\n",
      "    underlying_epochs: [1x1 struct]\n",
      "           objectname: 'vhspike2'\n",
      "          objectclass: 'ndi_daqsystem_mfdaq'\n",
      "\n",
      "\n",
      "i =\n",
      "\n",
      "     3\n",
      "\n",
      "\n",
      "ans = \n",
      "\n",
      "  struct with fields:\n",
      "\n",
      "             epoch_id: 't00014'\n",
      "        epochprobemap: [1x1 ndi_epochprobemap_daqsystem_vhlab]\n",
      "          epoch_clock: [1x1 ndi_clocktype]\n",
      "                t0_t1: [0 814.0127]\n",
      "    underlying_epochs: [1x1 struct]\n",
      "           objectname: 'vhspike2'\n",
      "          objectclass: 'ndi_daqsystem_mfdaq'\n",
      "\n",
      "\n",
      "i =\n",
      "\n",
      "     4\n",
      "\n",
      "\n",
      "ans = \n",
      "\n",
      "  struct with fields:\n",
      "\n",
      "             epoch_id: 't00010'\n",
      "        epochprobemap: [1x6 ndi_epochprobemap_daqsystem_vhlab]\n",
      "          epoch_clock: [1x1 ndi_clocktype]\n",
      "                t0_t1: [0 812.8213]\n",
      "    underlying_epochs: [1x1 struct]\n",
      "           objectname: 'vhvis_spike2'\n",
      "          objectclass: 'ndi_daqsystem_mfdaq_stimulus'\n",
      "\n",
      "\n",
      "i =\n",
      "\n",
      "     5\n",
      "\n",
      "\n",
      "ans = \n",
      "\n",
      "  struct with fields:\n",
      "\n",
      "             epoch_id: 't00012'\n",
      "        epochprobemap: [1x6 ndi_epochprobemap_daqsystem_vhlab]\n",
      "          epoch_clock: [1x1 ndi_clocktype]\n",
      "                t0_t1: [0 501.2731]\n",
      "    underlying_epochs: [1x1 struct]\n",
      "           objectname: 'vhvis_spike2'\n",
      "          objectclass: 'ndi_daqsystem_mfdaq_stimulus'\n",
      "\n",
      "\n",
      "i =\n",
      "\n",
      "     6\n",
      "\n",
      "\n",
      "ans = \n",
      "\n",
      "  struct with fields:\n",
      "\n",
      "             epoch_id: 't00013'\n",
      "        epochprobemap: [1x6 ndi_epochprobemap_daqsystem_vhlab]\n",
      "          epoch_clock: [1x1 ndi_clocktype]\n",
      "                t0_t1: [0 709.4035]\n",
      "    underlying_epochs: [1x1 struct]\n",
      "           objectname: 'vhvis_spike2'\n",
      "          objectclass: 'ndi_daqsystem_mfdaq_stimulus'\n",
      "\n",
      "\n",
      "i =\n",
      "\n",
      "     7\n",
      "\n",
      "\n",
      "ans = \n",
      "\n",
      "  struct with fields:\n",
      "\n",
      "             epoch_id: 't00014'\n",
      "        epochprobemap: [1x6 ndi_epochprobemap_daqsystem_vhlab]\n",
      "          epoch_clock: [1x1 ndi_clocktype]\n",
      "                t0_t1: [0 814.0127]\n",
      "    underlying_epochs: [1x1 struct]\n",
      "           objectname: 'vhvis_spike2'\n",
      "          objectclass: 'ndi_daqsystem_mfdaq_stimulus'\n",
      "\n",
      "\n",
      "i =\n",
      "\n",
      "     8\n",
      "\n",
      "\n",
      "ans = \n",
      "\n",
      "  struct with fields:\n",
      "\n",
      "             epoch_id: 't00012'\n",
      "        epochprobemap: []\n",
      "          epoch_clock: [1x1 ndi_clocktype]\n",
      "                t0_t1: [0 501.2731]\n",
      "    underlying_epochs: [1x1 struct]\n",
      "           objectname: 'probe: intra | 31'\n",
      "          objectclass: 'ndi_probe_timeseries_mfdaq'\n",
      "\n",
      "\n",
      "i =\n",
      "\n",
      "     9\n",
      "\n",
      "\n",
      "ans = \n",
      "\n",
      "  struct with fields:\n",
      "\n",
      "             epoch_id: 't00010'\n",
      "        epochprobemap: []\n",
      "          epoch_clock: [1x1 ndi_clocktype]\n",
      "                t0_t1: [0 812.8213]\n",
      "    underlying_epochs: [1x1 struct]\n",
      "           objectname: 'probe: vhvis_spike2 | 1'\n",
      "          objectclass: 'ndi_probe_timeseries_stimulator'\n",
      "\n",
      "\n",
      "i =\n",
      "\n",
      "    10\n",
      "\n",
      "\n",
      "ans = \n",
      "\n",
      "  struct with fields:\n",
      "\n",
      "             epoch_id: 't00012'\n",
      "        epochprobemap: []\n",
      "          epoch_clock: [1x1 ndi_clocktype]\n",
      "                t0_t1: [0 501.2731]\n",
      "    underlying_epochs: [1x1 struct]\n",
      "           objectname: 'probe: vhvis_spike2 | 1'\n",
      "          objectclass: 'ndi_probe_timeseries_stimulator'\n",
      "\n",
      "\n",
      "i =\n",
      "\n",
      "    11\n",
      "\n",
      "\n",
      "ans = \n",
      "\n",
      "  struct with fields:\n",
      "\n",
      "             epoch_id: 't00013'\n",
      "        epochprobemap: []\n",
      "          epoch_clock: [1x1 ndi_clocktype]\n",
      "                t0_t1: [0 709.4035]\n",
      "    underlying_epochs: [1x1 struct]\n",
      "           objectname: 'probe: vhvis_spike2 | 1'\n",
      "          objectclass: 'ndi_probe_timeseries_stimulator'\n",
      "\n",
      "\n",
      "i =\n",
      "\n",
      "    12\n",
      "\n",
      "\n",
      "ans = \n",
      "\n",
      "  struct with fields:\n",
      "\n",
      "             epoch_id: 't00014'\n",
      "        epochprobemap: []\n",
      "          epoch_clock: [1x1 ndi_clocktype]\n",
      "                t0_t1: [0 814.0127]\n",
      "    underlying_epochs: [1x1 struct]\n",
      "           objectname: 'probe: vhvis_spike2 | 1'\n",
      "          objectclass: 'ndi_probe_timeseries_stimulator'\n",
      "\n"
     ]
    }
   ],
   "source": [
    "% The nodes correspond to every epoch in the experiment for every daqsystem, probe, etc, enumerated individually: \n",
    "for i=1:numel(GI.nodes),i,  GI.nodes(i), end"
   ]
  },
  {
   "cell_type": "code",
   "execution_count": 95,
   "metadata": {},
   "outputs": [
    {
     "name": "stdout",
     "output_type": "stream",
     "text": [
      "\n",
      "ans = \n",
      "\n",
      "  ndi_timemapping with properties:\n",
      "\n",
      "    mapping: [1 0]\n",
      "\n",
      "\n",
      "ans =\n",
      "\n",
      "     []\n",
      "\n",
      "\n",
      "ans = \n",
      "\n",
      "  ndi_timemapping with properties:\n",
      "\n",
      "    mapping: [1 0]\n",
      "\n"
     ]
    }
   ],
   "source": [
    "% The mapping stores the mapping among all of these nodes\n",
    " % everything maps to itself with a shift of 0 and a scale of 1 (y = x + 0)\n",
    "GI.mapping{1,1}, % maps to itself\n",
    "GI.mapping{1,2} % can't get there from here directly\n",
    "GI.mapping{1,5} % we can get from node 1 to 5 directly because they are linked by a syncrule"
   ]
  },
  {
   "cell_type": "code",
   "execution_count": 96,
   "metadata": {},
   "outputs": [
    {
     "name": "stdout",
     "output_type": "stream",
     "text": [
      "\n",
      "ans = \n",
      "\n",
      "  struct with fields:\n",
      "\n",
      "             epoch_id: 't00014'\n",
      "        epochprobemap: [1x1 ndi_epochprobemap_daqsystem_vhlab]\n",
      "          epoch_clock: [1x1 ndi_clocktype]\n",
      "                t0_t1: [0 814.0127]\n",
      "    underlying_epochs: [1x1 struct]\n",
      "           objectname: 'vhspike2'\n",
      "          objectclass: 'ndi_daqsystem_mfdaq'\n",
      "\n"
     ]
    }
   ],
   "source": [
    "GI.nodes(3)"
   ]
  },
  {
   "cell_type": "code",
   "execution_count": 97,
   "metadata": {},
   "outputs": [
    {
     "name": "stdout",
     "output_type": "stream",
     "text": [
      "\n",
      "ans = \n",
      "\n",
      "  digraph with properties:\n",
      "\n",
      "    Edges: [28x2 table]\n",
      "    Nodes: [12x0 table]\n",
      "\n"
     ]
    }
   ],
   "source": [
    "GI.diG"
   ]
  },
  {
   "cell_type": "code",
   "execution_count": 98,
   "metadata": {},
   "outputs": [
    {
     "data": {
      "image/png": "[encoded data removed]",
      "text/plain": [
       "<IPython.core.display.Image object>"
      ]
     },
     "metadata": {},
     "output_type": "display_data"
    }
   ],
   "source": [
    "plot(GI.diG,'Layout','force')\n",
    " % every node maps to itself; there are 4 epochs here that are mapped across devices;\n",
    " % for example, node 1, 5, 8, and 10 are the probe and daqsystem epoch nodes for \n",
    " % the data stored in directory t00012 (% note, 4 and 2 are not connected)"
   ]
  },
  {
   "cell_type": "code",
   "execution_count": null,
   "metadata": {},
   "outputs": [],
   "source": []
  },
  {
   "cell_type": "code",
   "execution_count": null,
   "metadata": {},
   "outputs": [],
   "source": []
  }
 ],
 "metadata": {
  "kernelspec": {
   "display_name": "Matlab",
   "language": "matlab",
   "name": "matlab"
  },
  "language_info": {
   "codemirror_mode": "octave",
   "file_extension": ".m",
   "help_links": [
    {
     "text": "MetaKernel Magics",
     "url": "https://metakernel.readthedocs.io/en/latest/source/README.html"
    }
   ],
   "mimetype": "text/x-octave",
   "name": "matlab",
   "version": "0.16.7"
  }
 },
 "nbformat": 4,
 "nbformat_minor": 2
}
