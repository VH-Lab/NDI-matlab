{
 "cells": [
  {
   "cell_type": "markdown",
   "metadata": {},
   "source": [
    "# Epochs instructional demo 1: from ndi_file_navigator to ndi_daqsystem to ndi_probe\n",
    "\n",
    "This demo introduces the concepts of using **ndi_daqsystem** objects to access data acquired in an experiment. \n",
    "\n",
    "**Scenario**: An experimentor records spontaneously generated responses with a single intracellular sharp electrode inserted in visual cortex. The analyst wants to examine the spiking responses of the neuron and the voltage responses of the neuron with the spiking artificially removed.\n",
    "\n",
    "**Physical situation**: There is a single physical hardware data acquisition system, in this case a system made by _Cambridge Electronic Deisgn_ (CED) called the _micro1401_ that is controlled by prioprietary software called _Spike2_. A wire connects the electrode to an amplifier, and a wire from the amplifier connects to an input (let's say input 0) on the micro1401.\n",
    "\n",
    "In **NDI**, a **probe** is anything that measures or stimulates, so our intracellular sharp electrode is an exampe of a probe.\n",
    "\n",
    "The recordings occur in **epochs**, which are instances when the recording system is turned on to record a bout of activity, and then turned off. Each time the recording is turned on, a file (_.smr_ format) is written to disk. The software that manages the recording of the micro1401 is written by CED and is called Spike2.\n",
    "\n",
    "Let's say there are 3 recording epochs, which in this example we call `t00001`, `t00002`, and `t00003`. Therefore, we have 3 .smr files (let's say at path `t00001/spike2data.smr`, `t00002/spike2data.smr`, and `t00003/spike2data.smr`). \n",
    "\n",
    "First, let's examine the directory, which we will call `dirname`.\n"
   ]
  },
  {
   "cell_type": "code",
   "execution_count": 30,
   "metadata": {
    "scrolled": true
   },
   "outputs": [
    {
     "name": "stdout",
     "output_type": "stream",
     "text": [
      "\n",
      "dirname =\n",
      "\n",
      "    '/Users/vanhoosr/Documents/MATLAB/tools/NDI-matlab/ndi_common/example_experiments/intracell_example'\n",
      "\n"
     ]
    }
   ],
   "source": [
    "ndi_globals;\n",
    "dirname = [ndiexampleexperpath filesep 'intracell_example']"
   ]
  },
  {
   "cell_type": "code",
   "execution_count": 31,
   "metadata": {},
   "outputs": [
    {
     "name": "stdout",
     "output_type": "stream",
     "text": [
      "/Users/vanhoosr/Documents/MATLAB/tools/NDI-matlab/ndi_common/example_experiments/intracell_example/t00001:\n",
      "epoch_t00001.epochmetadata\tspike2data.smr\n",
      "\n",
      "/Users/vanhoosr/Documents/MATLAB/tools/NDI-matlab/ndi_common/example_experiments/intracell_example/t00002:\n",
      "epoch_t00002.epochmetadata\tspike2data.smr\n",
      "\n",
      "/Users/vanhoosr/Documents/MATLAB/tools/NDI-matlab/ndi_common/example_experiments/intracell_example/t00003:\n",
      "epoch_t00003.epochmetadata\tspike2data.smr\n",
      "\n"
     ]
    }
   ],
   "source": [
    "ls([dirname filesep '*']) % list all files in subdirectories"
   ]
  },
  {
   "cell_type": "markdown",
   "metadata": {},
   "source": [
    "Each subdirectory contains a file `spike2data.smr` and another file called `epoch_tN.epochmetadata`.\n",
    "\n",
    "Let's think about the information we would need to understand the physical situation of our recording. Our electrode amplifier was plugged into a certain channel on the _micro1401_. In the case of the _micro1401_ acquisition system, this channel is assigned a number in the _Spike2_ software (it need not correspond to a port number on the _micro1401_ ). During this acquisition, we happened to use channel 21 as the input channel. So we need to store this metadata (that we have an intracellular sharp electrode probe being sampled on channel 21 of a _micro1401_ device that was acquired with _Spike2_ software). \n",
    "\n",
    "There are several ways to provide this data. Some acquisition systems store this metadata in their own native files, and it could be read from those files. Some labs (Van Hooser lab is one) have a system for specifying this metadata in their own \"helper\" files, and NDI classes have been made to convert this metadata into NDI objects. But, for simplicity, we'll imagine the case where the user writes the values in a text file. Let's look at the contents of the first epoch's text file."
   ]
  },
  {
   "cell_type": "code",
   "execution_count": 32,
   "metadata": {},
   "outputs": [
    {
     "name": "stdout",
     "output_type": "stream",
     "text": [
      "\n",
      "ans =\n",
      "\n",
      "    'name\treference\ttype\tdevicestring\n",
      "     intra\t1\tsharp-Vm\tmySpike2:ai21\n",
      "     '\n",
      "\n"
     ]
    }
   ],
   "source": [
    "textfile2char([dirname filesep 't00001' filesep 'epoch_t00001.epochmetadata'])"
   ]
  },
  {
   "cell_type": "markdown",
   "metadata": {},
   "source": [
    "Here, we have the **name** of the probe ( _intra_ ), a **reference** number for the probe (1), a declared **type** of the probe ( _sharp-Vm_ ), and the **devicestring**, which has the daqsystem and channel number where the probe was recorded in this epoch (_mySpike2_ is a daqsystem we haven't defined yet, and 'ai21' means 'analog input number 21', where channels are numbered from 1). The class **ndi_daqsystemstring** creates and writes these devicestrings (see `help ndi_daqsystemstring`). All of these fields together comprise the necessary parameters for the class **ndi_epochprobemap_daqsystem** (see `help ndi_epochprobemap_daqsystem`)."
   ]
  },
  {
   "cell_type": "markdown",
   "metadata": {},
   "source": [
    "## ndi_filenavigator: managing files for epochs, and their organization on disk\n",
    "\n",
    "Each lab and even each investigator has their own way of organizing their files into epochs on disk. So we need a flexible tool to retrieve the files that correspond to a particular epoch of recording. The **ndi_filenavigator** provides a flexible means of specifying search parameters for these files; further, if the organization is very specialized, then the class can be overridden. From `help ndi_filenavigator`:\n",
    "\n",
    "`OBJ = ndi_filenavigator(EXPERIMENT, [ FILEPARAMETERS, EPOCHPROBEMAP_CLASS, EPOCHPROBEMAP_FILEPARAMETERS])`\n",
    "\n",
    "To create an ndi_filenavigator object, we need to open an **ndi_experiment** object that has a data path -- that is, the root directory of the raw data to be searched.\n"
   ]
  },
  {
   "cell_type": "code",
   "execution_count": 33,
   "metadata": {},
   "outputs": [
    {
     "name": "stdout",
     "output_type": "stream",
     "text": [
      "\n",
      "E = \n",
      "\n",
      "  ndi_experiment_dir with properties:\n",
      "\n",
      "                path: '/Users/vanhoosr/Documents/MATLAB/tools/NDI-matlab/ndi_common/example_experiments/intracell_example'\n",
      "           reference: 'exp1'\n",
      "    unique_reference: '412683f900a604d6_3fe43c49753b9024'\n",
      "            database: [1x1 ndi_matlabdumbjsondb]\n",
      "           daqsystem: [1x1 ndi_dbleaf_branch]\n",
      "           syncgraph: [1x1 ndi_syncgraph]\n",
      "               cache: [1x1 ndi_cache]\n",
      "\n"
     ]
    }
   ],
   "source": [
    "E = ndi_experiment_dir('exp1',dirname)\n",
    "E.daqsystem_clear(); % clear all the existing daqsystems for the demo; we are going to make one"
   ]
  },
  {
   "cell_type": "markdown",
   "metadata": {},
   "source": [
    "The fileparameters input to the **ndi_filenavigator** creator is a set of regular expression matches that must be satisifed to indicate the presence of a set of files that comprise an epoch. (See `help ndi_filenavigator/setparameters`). In this case, we want to tell the file navigator to look for _.smr_ files that are paired with a _.epochmetadata_ file. So, we write:"
   ]
  },
  {
   "cell_type": "code",
   "execution_count": 34,
   "metadata": {},
   "outputs": [],
   "source": [
    "fileparameters = {'.*\\.smr\\>','.*\\.epochmetadata\\>'}; % the regular expressions must both be matched\n",
    "epochprobemap_class = 'ndi_epochprobemap_daqsystem';\n",
    "epochprobemap_fileparameters = '.*\\.epochmetadata\\>'; % this must match a file that is part of the epoch\n",
    "fn = ndi_filenavigator(E,fileparameters,epochprobemap_class,epochprobemap_fileparameters);"
   ]
  },
  {
   "cell_type": "markdown",
   "metadata": {},
   "source": [
    "Now we can examine the epochs of `fn`:"
   ]
  },
  {
   "cell_type": "code",
   "execution_count": 35,
   "metadata": {},
   "outputs": [
    {
     "name": "stdout",
     "output_type": "stream",
     "text": [
      "\n",
      "numepochs =\n",
      "\n",
      "     3\n",
      "\n",
      "\n",
      "ef1 =\n",
      "\n",
      "  2x1 cell array\n",
      "\n",
      "    {'/Users/vanhoosr/Documents/MATLAB/tools/NDI-matlab/ndi_common/example_experiments/intracell_example/t00001/spike2data.smr'            }\n",
      "    {'/Users/vanhoosr/Documents/MATLAB/tools/NDI-matlab/ndi_common/example_experiments/intracell_example/t00001/epoch_t00001.epochmetadata'}\n",
      "\n"
     ]
    }
   ],
   "source": [
    "numepochs = fn.numepochs(), % print number of epochs\n",
    "ef1 = fn.getepochfiles(1), % get the files that comprise the first epoch\n"
   ]
  },
  {
   "cell_type": "markdown",
   "metadata": {},
   "source": [
    "## ndi_epochset: a class for managing sets of epochs\n",
    "\n",
    "Many NDI objects have epochs (ndi_filenavigator, ndi_daqsystem, ndi_probe, ndi_thing), and these epochs are inter-related. The epochs of a probe are directly related to those of the ndi_daqsystem that acquired it, and to the underlying sets of files that define the raw data that comprises that epoch (that is, the ndi_filenavigator object of the ndi_daqsystem). \n",
    "\n",
    "There is a common set of properties and methods that are useful for managing collections of epochs, and, for this reason, we created a class called **ndi_epochset**. Everything that has a collection of epochs is a subclass of **ndi_epochset**, including **ndi_filenavigator**, **ndi_daqsystem**, **ndi_probe**, and **ndi_thing**.\n",
    "\n",
    "Let's explore some methods of **ndi_epochset** objects:"
   ]
  },
  {
   "cell_type": "code",
   "execution_count": 36,
   "metadata": {},
   "outputs": [
    {
     "name": "stdout",
     "output_type": "stream",
     "text": [
      "\n",
      "Methods for class ndi_epochset:\n",
      "\n",
      "buildepochgraph       epochid               matchedepochtable     \n",
      "buildepochtable       epochnodes            ndi_epochset          \n",
      "cached_epochgraph     epochsetname          numepochs             \n",
      "cached_epochtable     epochtable            resetepochtable       \n",
      "epoch2str             epochtableentry       t0_t1                 \n",
      "epochclock            getcache              underlyingepochnodes  \n",
      "epochgraph            issyncgraphroot       \n",
      "\n",
      "\n",
      "et = \n",
      "\n",
      "  1x3 struct array with fields:\n",
      "\n",
      "    epoch_number\n",
      "    epoch_id\n",
      "    epochprobemap\n",
      "    epoch_clock\n",
      "    t0_t1\n",
      "    underlying_epochs\n",
      "\n",
      "\n",
      "ans = \n",
      "\n",
      "  struct with fields:\n",
      "\n",
      "         epoch_number: 1\n",
      "             epoch_id: 'epoch_412683fb06f27a4c_3fc22954e01397d8'\n",
      "        epochprobemap: [1x1 ndi_epochprobemap_daqsystem]\n",
      "          epoch_clock: {[1x1 ndi_clocktype]}\n",
      "                t0_t1: {[NaN NaN]}\n",
      "    underlying_epochs: [1x1 struct]\n",
      "\n",
      "\n",
      "ans = \n",
      "\n",
      "  struct with fields:\n",
      "\n",
      "         epoch_number: 2\n",
      "             epoch_id: 'epoch_412683fb06f2d206_3fdafe2308e653ca'\n",
      "        epochprobemap: [1x1 ndi_epochprobemap_daqsystem]\n",
      "          epoch_clock: {[1x1 ndi_clocktype]}\n",
      "                t0_t1: {[NaN NaN]}\n",
      "    underlying_epochs: [1x1 struct]\n",
      "\n",
      "\n",
      "ans = \n",
      "\n",
      "  ndi_epochprobemap_daqsystem with properties:\n",
      "\n",
      "            name: 'intra'\n",
      "       reference: 1\n",
      "            type: 'sharp-Vm'\n",
      "    devicestring: 'mySpike2:ai21'\n",
      "\n",
      "\n",
      "ans = \n",
      "\n",
      "  ndi_clocktype with properties:\n",
      "\n",
      "    type: 'no_time'\n",
      "\n",
      "\n",
      "ans = \n",
      "\n",
      "  struct with fields:\n",
      "\n",
      "       underlying: {2x1 cell}\n",
      "         epoch_id: 'epoch_412683fb06f27a4c_3fc22954e01397d8'\n",
      "    epochprobemap: []\n",
      "      epoch_clock: {[1x1 ndi_clocktype]}\n",
      "            t0_t1: {[NaN NaN]}\n",
      "\n",
      "\n",
      "ans =\n",
      "\n",
      "  2x1 cell array\n",
      "\n",
      "    {'/Users/vanhoosr/Documents/MATLAB/tools/NDI-matlab/ndi_common/example_experiments/intracell_example/t00001/spike2data.smr'            }\n",
      "    {'/Users/vanhoosr/Documents/MATLAB/tools/NDI-matlab/ndi_common/example_experiments/intracell_example/t00001/epoch_t00001.epochmetadata'}\n",
      "\n"
     ]
    }
   ],
   "source": [
    "methods('ndi_epochset') % display all the methods\n",
    "\n",
    "et = fn.epochtable() % get the epochtable for the file navigator\n",
    "\n",
    "et(1) % show the first entry\n",
    "\n",
    "et(2) % show the second entry\n",
    "\n",
    " % now show some details\n",
    " \n",
    "et(1).epochprobemap\n",
    "et(1).epoch_clock{1}\n",
    "et(1).underlying_epochs(1)\n",
    "et(1).underlying_epochs(1).underlying"
   ]
  },
  {
   "cell_type": "markdown",
   "metadata": {},
   "source": [
    "A note about what we have seen. Each **epoch** has an **epoch_id**. This is a unique identifier that will never change and can be used to unambiguously refer to an epoch. The **epoch_number** is subject to change (potentially) because the order in which the filenames are searched (usually in alphanumeric order) could potentially change. One can always bank on the **epoch_id**, and the **epoch_id** should be used when referring to **epochs** in apps or in a database."
   ]
  },
  {
   "cell_type": "markdown",
   "metadata": {},
   "source": [
    "## ndi_daqsystem - reading acquired data independent of data format (ndi_daqreader) and underlying file organization (ndi_filenavigator)\n",
    "\n",
    "We're now ready to build an **ndi_daqsystem**. An **ndi_daqsystem** is comprised of an **ndi_daqreader** that knows how to examine the data files for a variety of tasks, including **a)** determining the channels that were active during a recording, **b)** determining the sampling characteristics of these channels, and **c)** importantly, reading the underlying data. \n",
    "\n",
    "One of the most important subclasses of **ndi_daqsystem** is **ndi_daqsystem_mfdaq**, which describes the behavior of a multifunction data acquisition system. A multifunction data acqusition system can acquire data on different types of channels (analog input, analog output -- which has a record of signals that were output, digital input, digital output, clocks). \n",
    "\n",
    "`OBJ = ndi_daqsystem(NAME, THEFILENAVIGATOR, THEDAQREADER)`\n",
    "\n",
    "Let's build an ndi_daqsystem for our experiment and add to our experiment `E`:"
   ]
  },
  {
   "cell_type": "code",
   "execution_count": 37,
   "metadata": {},
   "outputs": [],
   "source": [
    "dev1 = ndi_daqsystem_mfdaq('myspike2',fn, ndi_daqreader_mfdaq_cedspike2());\n",
    "E.daqsystem_add(dev1);"
   ]
  },
  {
   "cell_type": "markdown",
   "metadata": {},
   "source": [
    "Now we can examine the epochs of the daqsystem, as well as the channels that were acquired on a given epoch, or even the data from a given channel:"
   ]
  },
  {
   "cell_type": "code",
   "execution_count": 38,
   "metadata": {},
   "outputs": [
    {
     "name": "stdout",
     "output_type": "stream",
     "text": [
      "The channels we have on this daqsystem are the following:\n",
      "     name        type    \n",
      "    ______    ___________\n",
      "\n",
      "    'ai1'     'analog_in'\n",
      "    'e20'     'event'    \n",
      "    'ai21'    'analog_in'\n",
      "    'e22'     'event'    \n",
      "    'e23'     'event'    \n",
      "    'e24'     'event'    \n",
      "    'e25'     'event'    \n",
      "    'e26'     'event'    \n",
      "    'e27'     'event'    \n",
      "    'e28'     'event'    \n",
      "    'e29'     'event'    \n",
      "    'mk30'    'mark'     \n",
      "    'mk31'    'mark'     \n",
      "    'mk32'    'mark'     \n",
      "\n",
      "The sample rate of digital channel 1 in epoch 1 is 11111.1111.\n",
      "The sample rate of analog channel 1 in epoch 1 is 11111.1111.\n",
      "We will now plot the data for epoch1 for analog_input channel 21.\n"
     ]
    },
    {
     "data": {
      "image/png": "[encoded data removed]",
      "text/plain": [
       "<IPython.core.display.Image object>"
      ]
     },
     "metadata": {},
     "output_type": "display_data"
    }
   ],
   "source": [
    "disp(['The channels we have on this daqsystem are the following:']);\n",
    "disp ( struct2table(getchannels(dev1)) );\n",
    "\n",
    "sr_d = samplerate(dev1,1,{'digital_in'},1);\n",
    "sr_a = samplerate(dev1,1,{'analog_in'},1);\n",
    "\n",
    "disp(['The sample rate of digital channel 1 in epoch 1 is ' num2str(sr_d) '.']);\n",
    "disp(['The sample rate of analog channel 1 in epoch 1 is ' num2str(sr_a) '.']);\n",
    "\n",
    "disp(['We will now plot the data for epoch1 for analog_input channel 21.']);\n",
    "\n",
    "data = readchannels_epochsamples(dev1,{'analog_in'},21,1,0,Inf);\n",
    "time = readchannels_epochsamples(dev1,{'time'},21,1,0,Inf);\n",
    "\n",
    "figure;\n",
    "plot(time,data);\n",
    "ylabel('Data');\n",
    "xlabel('Time (s)');\n",
    "box off;"
   ]
  },
  {
   "cell_type": "markdown",
   "metadata": {},
   "source": [
    "## ndi_probe - think about the measurement, not about the channels and wires\n",
    "\n",
    "At the core, we want to direct our attention to the data that a probe measures, not the wiring diagram of that particular day (or hour) or the hardware that recorded it. **ndi_probe** objects allow one to do just that. \n",
    "\n",
    "At present, probes are _defined_ in the **ndi_epochprobemap** metadata that is either provided by the user or by a class that knows how to read such data found in the raw data files or accompanying files. Let's review the file that we used to provide this metadata:  "
   ]
  },
  {
   "cell_type": "code",
   "execution_count": 39,
   "metadata": {},
   "outputs": [
    {
     "name": "stdout",
     "output_type": "stream",
     "text": [
      "\n",
      "ans =\n",
      "\n",
      "    'name\treference\ttype\tdevicestring\n",
      "     intra\t1\tsharp-Vm\tmySpike2:ai21\n",
      "     '\n",
      "\n"
     ]
    }
   ],
   "source": [
    "textfile2char([dirname filesep 't00001' filesep 'epoch_t00001.epochmetadata'])"
   ]
  },
  {
   "cell_type": "markdown",
   "metadata": {},
   "source": [
    "We see that this file defines a mapping between channel 21 of the daqsystem 'mySpike2' and a probe named 'intra' with a reference number of 1 and a type of 'sharp-Vm'. We can ask our experiment to show us its probes:"
   ]
  },
  {
   "cell_type": "code",
   "execution_count": 40,
   "metadata": {},
   "outputs": [
    {
     "name": "stdout",
     "output_type": "stream",
     "text": [
      "\n",
      "probes =\n",
      "\n",
      "  1x2 cell array\n",
      "\n",
      "    {1x1 ndi_probe_timeseries_mfdaq}    {1x1 ndi_probe_timeseries_mfdaq}\n",
      "\n",
      "\n",
      "ans = \n",
      "\n",
      "  ndi_probe_timeseries_mfdaq with properties:\n",
      "\n",
      "    experiment: [1x1 ndi_experiment_dir]\n",
      "          name: 'intra'\n",
      "     reference: 1\n",
      "          type: 'sharp-Vm'\n",
      "\n",
      "\n",
      "ans = \n",
      "\n",
      "  ndi_probe_timeseries_mfdaq with properties:\n",
      "\n",
      "    experiment: [1x1 ndi_experiment_dir]\n",
      "          name: 'intra'\n",
      "     reference: 2\n",
      "          type: 'sharp-Vm'\n",
      "\n"
     ]
    }
   ],
   "source": [
    "probes = E.getprobes()\n",
    "probes{1}\n",
    "probes{2}"
   ]
  },
  {
   "cell_type": "markdown",
   "metadata": {},
   "source": [
    "OK, we see that our experiment has 2 probes worth of data. Both are named 'intra' and one of them has a reference of 1 and another has a reference of 2. In this case, the same amplifier and electrode are being used, but the experimentor has moved the electrode and stabbed a different cell in the case of reference 2. The _name_ and _reference_ and _type_ define an **ndi_probe**, and tell NDI what records to combine and what records not to combine.\n",
    "\n",
    "We can now look at the relationship between the epochs of the probes and the daqsystem."
   ]
  },
  {
   "cell_type": "code",
   "execution_count": 41,
   "metadata": {},
   "outputs": [
    {
     "name": "stdout",
     "output_type": "stream",
     "text": [
      "\n",
      "et_dev = \n",
      "\n",
      "  1x3 struct array with fields:\n",
      "\n",
      "    epoch_number\n",
      "    epoch_id\n",
      "    epochprobemap\n",
      "    epoch_clock\n",
      "    t0_t1\n",
      "    underlying_epochs\n",
      "\n",
      "\n",
      "ans = \n",
      "\n",
      "  struct with fields:\n",
      "\n",
      "         epoch_number: 1\n",
      "             epoch_id: 'epoch_412683fb06f27a4c_3fc22954e01397d8'\n",
      "        epochprobemap: [1x1 ndi_epochprobemap_daqsystem]\n",
      "          epoch_clock: {[1x1 ndi_clocktype]}\n",
      "                t0_t1: {[0 501.2731]}\n",
      "    underlying_epochs: [1x1 struct]\n",
      "\n",
      "\n",
      "ans = \n",
      "\n",
      "  struct with fields:\n",
      "\n",
      "         epoch_number: 2\n",
      "             epoch_id: 'epoch_412683fb06f2d206_3fdafe2308e653ca'\n",
      "        epochprobemap: [1x1 ndi_epochprobemap_daqsystem]\n",
      "          epoch_clock: {[1x1 ndi_clocktype]}\n",
      "                t0_t1: {[0 709.4035]}\n",
      "    underlying_epochs: [1x1 struct]\n",
      "\n",
      "\n",
      "ans = \n",
      "\n",
      "  struct with fields:\n",
      "\n",
      "         epoch_number: 3\n",
      "             epoch_id: 'epoch_412683fb06f2fc76_3fed4db4968f1e20'\n",
      "        epochprobemap: [1x1 ndi_epochprobemap_daqsystem]\n",
      "          epoch_clock: {[1x1 ndi_clocktype]}\n",
      "                t0_t1: {[0 814.0127]}\n",
      "    underlying_epochs: [1x1 struct]\n",
      "\n"
     ]
    }
   ],
   "source": [
    "et_dev = dev1.epochtable()  % the device has 3 epochs\n",
    "et_dev(1)\n",
    "et_dev(2)\n",
    "et_dev(3)"
   ]
  },
  {
   "cell_type": "code",
   "execution_count": 42,
   "metadata": {},
   "outputs": [
    {
     "name": "stdout",
     "output_type": "stream",
     "text": [
      "\n",
      "et_p1 = \n",
      "\n",
      "  struct with fields:\n",
      "\n",
      "         epoch_number: 1\n",
      "             epoch_id: 'epoch_412683fb06f27a4c_3fc22954e01397d8'\n",
      "        epochprobemap: []\n",
      "          epoch_clock: {[1x1 ndi_clocktype]}\n",
      "                t0_t1: {[0 501.2731]}\n",
      "    underlying_epochs: [1x1 struct]\n",
      "\n",
      "\n",
      "et_p2 = \n",
      "\n",
      "  1x2 struct array with fields:\n",
      "\n",
      "    epoch_number\n",
      "    epoch_id\n",
      "    epochprobemap\n",
      "    epoch_clock\n",
      "    t0_t1\n",
      "    underlying_epochs\n",
      "\n",
      "\n",
      "ans = \n",
      "\n",
      "  struct with fields:\n",
      "\n",
      "         epoch_number: 1\n",
      "             epoch_id: 'epoch_412683fb06f27a4c_3fc22954e01397d8'\n",
      "        epochprobemap: []\n",
      "          epoch_clock: {[1x1 ndi_clocktype]}\n",
      "                t0_t1: {[0 501.2731]}\n",
      "    underlying_epochs: [1x1 struct]\n",
      "\n",
      "\n",
      "ans = \n",
      "\n",
      "  struct with fields:\n",
      "\n",
      "         epoch_number: 1\n",
      "             epoch_id: 'epoch_412683fb06f2d206_3fdafe2308e653ca'\n",
      "        epochprobemap: []\n",
      "          epoch_clock: {[1x1 ndi_clocktype]}\n",
      "                t0_t1: {[0 709.4035]}\n",
      "    underlying_epochs: [1x1 struct]\n",
      "\n",
      "\n",
      "ans = \n",
      "\n",
      "  struct with fields:\n",
      "\n",
      "         epoch_number: 2\n",
      "             epoch_id: 'epoch_412683fb06f2fc76_3fed4db4968f1e20'\n",
      "        epochprobemap: []\n",
      "          epoch_clock: {[1x1 ndi_clocktype]}\n",
      "                t0_t1: {[0 814.0127]}\n",
      "    underlying_epochs: [1x1 struct]\n",
      "\n"
     ]
    }
   ],
   "source": [
    "% But the first probe has a single epoch, and the second probe has 2 epochs:\n",
    "et_p1 = probes{1}.epochtable()\n",
    "et_p2 = probes{2}.epochtable()\n",
    "et_p1(1)\n",
    "et_p2(1)\n",
    "et_p2(2)"
   ]
  },
  {
   "cell_type": "markdown",
   "metadata": {},
   "source": [
    "Normally, a scientist will go right for the probes without worrying too much about the daqsystem that recorded them. While the daqsystem and wiring diagram are critical components for obtaining the data, they are usually a detail of the experiment and not an important intellectual contribution to the experiment. The probe and the data provided by the probe are critical players in most experiments.\n",
    "\n",
    "We can examine many properties of the probe:"
   ]
  },
  {
   "cell_type": "code",
   "execution_count": 43,
   "metadata": {},
   "outputs": [
    {
     "name": "stdout",
     "output_type": "stream",
     "text": [
      "The sample rate of probe 1 epoch 1 is 11111.1111.\n",
      "We will now plot the data for epoch 1 for analog_input channel 1.\n"
     ]
    },
    {
     "data": {
      "image/png": "[encoded data removed]",
      "text/plain": [
       "<IPython.core.display.Image object>"
      ]
     },
     "metadata": {},
     "output_type": "display_data"
    }
   ],
   "source": [
    "sr = probes{1}.samplerate(1);\n",
    "\n",
    "disp(['The sample rate of probe 1 epoch 1 is ' num2str(sr) '.']);\n",
    "\n",
    "disp(['We will now plot the data for epoch 1 for analog_input channel 1.']);\n",
    "\n",
    "[data,time] = probes{1}.read_epochsamples(1,0,Inf);\n",
    "\n",
    "figure;\n",
    "plot(time,data(:,1));\n",
    "ylabel('Data on channel 1 of probe 1');\n",
    "xlabel('Time (s)');\n",
    "box off;"
   ]
  },
  {
   "cell_type": "markdown",
   "metadata": {},
   "source": [
    "## Next time\n",
    "\n",
    "In the next demo, we'll cover **ndi_thing** objects."
   ]
  }
 ],
 "metadata": {
  "kernelspec": {
   "display_name": "Matlab",
   "language": "matlab",
   "name": "matlab"
  },
  "language_info": {
   "codemirror_mode": "octave",
   "file_extension": ".m",
   "help_links": [
    {
     "text": "MetaKernel Magics",
     "url": "https://metakernel.readthedocs.io/en/latest/source/README.html"
    }
   ],
   "mimetype": "text/x-octave",
   "name": "matlab",
   "version": "0.16.7"
  }
 },
 "nbformat": 4,
 "nbformat_minor": 2
}
