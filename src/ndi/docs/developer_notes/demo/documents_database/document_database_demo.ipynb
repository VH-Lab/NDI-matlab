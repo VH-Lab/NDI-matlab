{
 "cells": [
  {
   "cell_type": "markdown",
   "metadata": {},
   "source": [
    "# Documents and database\n",
    "\n",
    "This demo introduces the concepts of using **ndi_document** objects and the **ndi_database** to access stored data or analyses in an experiment. \n",
    "\n",
    "**Scenario**: An experimentor analyzes some data and wants to store the values of parameters of the animal and the results of some computation to the database for later retrieval.\n",
    "\n",
    "In **NDI**, an **ndi_document** is a class for platform-independent storage and retrieval of database data. Every element in the **ndi_database** is a member of class **ndi_document**.\n",
    "\n",
    "The form of **ndi_document** objects is specified in a JSON file in the `ndi_common/database_documents` subdirectories.\n",
    "\n",
    "Let's create the most basic type of **ndi_document**."
   ]
  },
  {
   "cell_type": "code",
   "execution_count": 1,
   "metadata": {},
   "outputs": [
    {
     "name": "stdout",
     "output_type": "stream",
     "text": [
      "\n",
      "mydoc = \n",
      "\n",
      "  ndi_document with properties:\n",
      "\n",
      "    document_properties: [1x1 struct]\n",
      "\n"
     ]
    }
   ],
   "source": [
    "mydoc = ndi_document()"
   ]
  },
  {
   "cell_type": "markdown",
   "metadata": {},
   "source": [
    "We just made a \"vanilla\" ndi_document. Let's examine the fields of this document:"
   ]
  },
  {
   "cell_type": "code",
   "execution_count": 3,
   "metadata": {},
   "outputs": [
    {
     "name": "stdout",
     "output_type": "stream",
     "text": [
      "\n",
      "ans = \n",
      "\n",
      "  struct with fields:\n",
      "\n",
      "    document_class: [1x1 struct]\n",
      "      ndi_document: [1x1 struct]\n",
      "\n",
      "\n",
      "ans = \n",
      "\n",
      "  struct with fields:\n",
      "\n",
      "       experiment_id: ''\n",
      "                  id: '4126841bbce38274_3fea1237688aba7b'\n",
      "                name: ''\n",
      "                type: ''\n",
      "           datestamp: '2020-01-16T01:51:15.937Z'\n",
      "    database_version: 1\n",
      "\n"
     ]
    }
   ],
   "source": [
    "mydoc.document_properties\n",
    "mydoc.document_properties.ndi_document"
   ]
  },
  {
   "cell_type": "markdown",
   "metadata": {},
   "source": [
    "The fields of `document_properties.ndi_document` describe several features. The document has an id that is unique to every entry in the database. The experiment_id is also provided with an ndi_document so that the document could be put in a database that combines multiple experiments. There is a datestamp in UTC, and fields for a user-defined name and type. "
   ]
  },
  {
   "cell_type": "code",
   "execution_count": 4,
   "metadata": {},
   "outputs": [
    {
     "name": "stdout",
     "output_type": "stream",
     "text": [
      "\n",
      "ans = \n",
      "\n",
      "  struct with fields:\n",
      "\n",
      "       definition: '$NDIDOCUMENTPATH/ndi_document.json'\n",
      "       validation: '$NDISCHEMAPATH/ndi_document_schema.json'\n",
      "       class_name: 'ndi_document'\n",
      "    class_version: 1\n",
      "     superclasses: []\n",
      "\n"
     ]
    }
   ],
   "source": [
    "mydoc.document_properties.document_class"
   ]
  },
  {
   "cell_type": "markdown",
   "metadata": {},
   "source": [
    "The `document_properties.document_class` fields describe the definition of the document. This particular document class has no superclasses; it is the most basic class. We will see how these superclasses work later."
   ]
  },
  {
   "cell_type": "markdown",
   "metadata": {},
   "source": [
    "The fields of an ndi_document are in a JSON file in `ndi_common/database_documents`. Let's examine the ndi_document.json file:"
   ]
  },
  {
   "cell_type": "code",
   "execution_count": 5,
   "metadata": {},
   "outputs": [
    {
     "name": "stdout",
     "output_type": "stream",
     "text": [
      "\n",
      "{\n",
      "\t\"document_class\": {\n",
      "\t\t\"definition\":\t\t\t\t\t\t\"$NDIDOCUMENTPATH\\/ndi_document.json\",\n",
      "\t\t\"validation\":\t\t\t\t\t\t\"$NDISCHEMAPATH\\/ndi_document_schema.json\",\n",
      "\t\t\"class_name\":\t\t\t\t\t\t\"ndi_document\",\n",
      "\t\t\"class_version\":\t\t\t\t\t1,\n",
      "\t\t\"superclasses\": [ ]\n",
      "\t},\n",
      "\t\"ndi_document\": {\n",
      "\t\t\"experiment_id\":\t\t\t\t\"\",\n",
      "\t\t\"id\":                           \"\",\n",
      "\t\t\"name\":\t\t\t\t\t\t\t\"\",\n",
      "\t\t\"type\":\t\t\t\t\t\t\t\"\",\n",
      "\t\t\"datestamp\":\t\t\t\t\t\t\"2018-12-05T18:36:47.241Z\",\n",
      "\t\t\"database_version\":\t\t\t\t\t1\n",
      "\t}\n",
      "}\n",
      "\n"
     ]
    }
   ],
   "source": [
    "type ndi_document.json"
   ]
  },
  {
   "cell_type": "markdown",
   "metadata": {},
   "source": [
    "At present, each ndi_document has a \"document_class\" field that specifies the class_name, how it was defined, how it should be validated (currently not used or implemented, and could be changed), a class version, etc. You also see the fields of ndi_document."
   ]
  },
  {
   "cell_type": "markdown",
   "metadata": {},
   "source": [
    "Now let's open an expeirment and make a different type of document."
   ]
  },
  {
   "cell_type": "code",
   "execution_count": 8,
   "metadata": {},
   "outputs": [
    {
     "name": "stdout",
     "output_type": "stream",
     "text": [
      "\n",
      "dirname =\n",
      "\n",
      "    '/Users/vanhoosr/Documents/MATLAB/tools/NDI-matlab/ndi_common/example_experiments/exp1_eg'\n",
      "\n",
      "\n",
      "E = \n",
      "\n",
      "  ndi_experiment_dir with properties:\n",
      "\n",
      "                path: '/Users/vanhoosr/Documents/MATLAB/tools/NDI-matlab/ndi_common/example_experiments/exp1_eg'\n",
      "           reference: 'exp1'\n",
      "    unique_reference: '412682d5b11e4ba9_3fe62b9185af29f4'\n",
      "           daqsystem: [1x1 ndi_dbleaf_branch]\n",
      "           syncgraph: [1x1 ndi_syncgraph]\n",
      "               cache: [1x1 ndi_cache]\n",
      "\n"
     ]
    }
   ],
   "source": [
    "ndi_globals;\n",
    "dirname = [ndiexampleexperpath filesep 'exp1_eg']\n",
    "E = ndi_experiment_dir(dirname)"
   ]
  },
  {
   "cell_type": "markdown",
   "metadata": {},
   "source": [
    "Now let's call the newdocument() method of ndi_experiment to build a new document: \n"
   ]
  },
  {
   "cell_type": "code",
   "execution_count": 11,
   "metadata": {},
   "outputs": [
    {
     "name": "stdout",
     "output_type": "stream",
     "text": [
      "\n",
      "doc = \n",
      "\n",
      "  ndi_document with properties:\n",
      "\n",
      "    document_properties: [1x1 struct]\n",
      "\n"
     ]
    }
   ],
   "source": [
    "doc = E.newdocument('ndi_document_subjectmeasurement',...\n",
    "        'ndi_document.name','Animal statistics',...\n",
    "        'subject.id','vhlab12345', ...\n",
    "        'subject.species','Mus musculus',...\n",
    "        'subjectmeasurement.measurement','age',...\n",
    "        'subjectmeasurement.value',30,...\n",
    "        'subjectmeasurement.datestamp','2017-03-17T19:53:57.066Z'...\n",
    "        )"
   ]
  },
  {
   "cell_type": "markdown",
   "metadata": {},
   "source": [
    "Let's examine this document:"
   ]
  },
  {
   "cell_type": "code",
   "execution_count": 14,
   "metadata": {},
   "outputs": [
    {
     "name": "stdout",
     "output_type": "stream",
     "text": [
      "\n",
      "ans = \n",
      "\n",
      "  struct with fields:\n",
      "\n",
      "        document_class: [1x1 struct]\n",
      "          ndi_document: [1x1 struct]\n",
      "               subject: [1x1 struct]\n",
      "    subjectmeasurement: [1x1 struct]\n",
      "\n",
      "\n",
      "ans = \n",
      "\n",
      "  struct with fields:\n",
      "\n",
      "       experiment_id: 'exp1_412682d5b11e4ba9_3fe62b9185af29f4'\n",
      "                  id: '4126841bc038507d_3feea3e55ffc605b'\n",
      "                name: 'Animal statistics'\n",
      "                type: ''\n",
      "           datestamp: '2020-01-16T02:00:37.124Z'\n",
      "    database_version: 1\n",
      "\n",
      "\n",
      "ans = \n",
      "\n",
      "  struct with fields:\n",
      "\n",
      "    measurement: 'age'\n",
      "          value: 30\n",
      "      datestamp: '2017-03-17T19:53:57.066Z'\n",
      "\n",
      "\n",
      "ans = \n",
      "\n",
      "  struct with fields:\n",
      "\n",
      "    reference: ''\n",
      "      species: 'Mus musculus'\n",
      "       strain: ''\n",
      "      variant: ''\n",
      "           id: 'vhlab12345'\n",
      "\n",
      "\n",
      "ans = \n",
      "\n",
      "  struct with fields:\n",
      "\n",
      "       definition: '$NDIDOCUMENTPATH/ndi_document_subjectmeasurement.json'\n",
      "       validation: '$NDISCHEMAPATH/ndi_document_subjectmeasurement_schema.json'\n",
      "       class_name: 'ndi_document_subjectmeasurement'\n",
      "    class_version: 1\n",
      "     superclasses: [2x1 struct]\n",
      "\n"
     ]
    }
   ],
   "source": [
    "doc.document_properties\n",
    "doc.document_properties.ndi_document\n",
    "doc.document_properties.subjectmeasurement\n",
    "doc.document_properties.subject\n",
    "doc.document_properties.document_class"
   ]
  },
  {
   "cell_type": "code",
   "execution_count": 15,
   "metadata": {},
   "outputs": [
    {
     "name": "stdout",
     "output_type": "stream",
     "text": [
      "\n",
      "{\n",
      "\t\"document_class\": {\n",
      "\t\t\"definition\":\t\t\t\t\t\t\"$NDIDOCUMENTPATH\\/ndi_document_subjectmeasurement.json\",\n",
      "\t\t\"validation\":\t\t\t\t\t\t\"$NDISCHEMAPATH\\/ndi_document_subjectmeasurement_schema.json\",\n",
      "\t\t\"class_name\":\t\t\t\t\t\t\"ndi_document_subjectmeasurement\",\n",
      "\t\t\"class_version\":\t\t\t\t\t1,\n",
      "\t\t\"superclasses\": [\n",
      "\t\t\t{ \"definition\":\t\t\t\t\t\"$NDIDOCUMENTPATH\\/ndi_document.json\" },\n",
      "\t\t\t{ \"definition\":\t\t\t\t\t\"$NDIDOCUMENTPATH\\/ndi_document_subject.json\" }\n",
      "\t\t]\n",
      "        },\n",
      "\t\"subjectmeasurement\": {\n",
      "\t\t\"measurement\":\t\t\t\t\t\t\"\",\n",
      "\t\t\"value\":\t\t\t\t\t\t\"\",\n",
      "\t\t\"datestamp\":\t\t\t\t\t\t\"\"\n",
      "\t}\n",
      "}\n",
      "\n"
     ]
    }
   ],
   "source": [
    "type ndi_document_subjectmeasurement.json"
   ]
  },
  {
   "cell_type": "markdown",
   "metadata": {},
   "source": [
    "If we examine the JSON definition, we can see that this class `subjectmeasurement` has ndi_document and ndi_document_subject as superclasses. The created object will have all of the fields of the base class and its superclasses, as we saw above."
   ]
  },
  {
   "cell_type": "markdown",
   "metadata": {},
   "source": [
    "We can now add our ndi_document object to the experiment's database with `ndi_experiment/database_add()`:"
   ]
  },
  {
   "cell_type": "code",
   "execution_count": 16,
   "metadata": {},
   "outputs": [
    {
     "name": "stdout",
     "output_type": "stream",
     "text": [
      "\n",
      "ans = \n",
      "\n",
      "  ndi_experiment_dir with properties:\n",
      "\n",
      "                path: '/Users/vanhoosr/Documents/MATLAB/tools/NDI-matlab/ndi_common/example_experiments/exp1_eg'\n",
      "           reference: 'exp1'\n",
      "    unique_reference: '412682d5b11e4ba9_3fe62b9185af29f4'\n",
      "           daqsystem: [1x1 ndi_dbleaf_branch]\n",
      "           syncgraph: [1x1 ndi_syncgraph]\n",
      "               cache: [1x1 ndi_cache]\n",
      "\n"
     ]
    }
   ],
   "source": [
    "E.database_add(doc)"
   ]
  },
  {
   "cell_type": "markdown",
   "metadata": {},
   "source": [
    "We can search for this document using a variety of methods. The simplest (but depricated) is to use a `name`,`regexp` pair that matches a parameter name against a regular expression. **ndi_document** objects are always returned from `ndi_experiment/database_search()` as a cell array that can be accessed with curly braces:"
   ]
  },
  {
   "cell_type": "code",
   "execution_count": 19,
   "metadata": {},
   "outputs": [
    {
     "name": "stdout",
     "output_type": "stream",
     "text": [
      "\n",
      "finddoc =\n",
      "\n",
      "  1x1 cell array\n",
      "\n",
      "    {1x1 ndi_document}\n",
      "\n",
      "\n",
      "ans = \n",
      "\n",
      "  ndi_document with properties:\n",
      "\n",
      "    document_properties: [1x1 struct]\n",
      "\n",
      "\n",
      "ans = \n",
      "\n",
      "  struct with fields:\n",
      "\n",
      "        document_class: [1x1 struct]\n",
      "          ndi_document: [1x1 struct]\n",
      "               subject: [1x1 struct]\n",
      "    subjectmeasurement: [1x1 struct]\n",
      "\n",
      "\n",
      "ans = \n",
      "\n",
      "  struct with fields:\n",
      "\n",
      "    reference: ''\n",
      "      species: 'Mus musculus'\n",
      "       strain: ''\n",
      "      variant: ''\n",
      "           id: 'vhlab12345'\n",
      "\n"
     ]
    }
   ],
   "source": [
    "finddoc = E.database_search({'subject.id','vhlab12345'})\n",
    "finddoc{1}\n",
    "finddoc{1}.document_properties\n",
    "finddoc{1}.document_properties.subject"
   ]
  },
  {
   "cell_type": "markdown",
   "metadata": {},
   "source": [
    "The better way to search the database is to use **ndi_query** objects. These objects allow for a variety of match definitions. For example:"
   ]
  },
  {
   "cell_type": "code",
   "execution_count": 22,
   "metadata": {},
   "outputs": [
    {
     "name": "stdout",
     "output_type": "stream",
     "text": [
      "\n",
      "finddoc =\n",
      "\n",
      "  1x1 cell array\n",
      "\n",
      "    {1x1 ndi_document}\n",
      "\n",
      "\n",
      "ans = \n",
      "\n",
      "  ndi_document with properties:\n",
      "\n",
      "    document_properties: [1x1 struct]\n",
      "\n",
      "\n",
      "ans = \n",
      "\n",
      "  struct with fields:\n",
      "\n",
      "        document_class: [1x1 struct]\n",
      "          ndi_document: [1x1 struct]\n",
      "               subject: [1x1 struct]\n",
      "    subjectmeasurement: [1x1 struct]\n",
      "\n",
      "\n",
      "ans = \n",
      "\n",
      "  struct with fields:\n",
      "\n",
      "    reference: ''\n",
      "      species: 'Mus musculus'\n",
      "       strain: ''\n",
      "      variant: ''\n",
      "           id: 'vhlab12345'\n",
      "\n"
     ]
    }
   ],
   "source": [
    "q_exp = ndi_query('ndi_document.experiment_id','exact_string',E.id(),''); % search for this experiment\n",
    "q_species = ndi_query('subject.species','exact_string','Mus musculus','');\n",
    "q_doctype = ndi_query('','isa','ndi_document_subjectmeasurement','');\n",
    "finddoc = E.database_search(q_exp & q_species & q_doctype)\n",
    "finddoc{1}\n",
    "finddoc{1}.document_properties\n",
    "finddoc{1}.document_properties.subject"
   ]
  },
  {
   "cell_type": "code",
   "execution_count": 23,
   "metadata": {},
   "outputs": [
    {
     "name": "stdout",
     "output_type": "stream",
     "text": [
      "  NDI_QUERY - create a query object for searching the database\n",
      " \n",
      "  Creates an NDI_QUERY object, which has a single property\n",
      "  SEARCH that is a structure array of search structures\n",
      "  appropriate for use with FIELDSEARCH.\n",
      " \n",
      "  Tha is, SEARCH has the fields:\n",
      "  Field:                   | Description\n",
      "  ---------------------------------------------------------------------------\n",
      "  field                      | A character string of the field of A to examine\n",
      "  operation                  | The operation to perform. This operation determines \n",
      "                             |   values of fields 'param1' and 'param2'.\n",
      "      |----------------------|\n",
      "      |   'regexp'             - are there any regular expression matches between \n",
      "      |                          the field value and 'param1'?\n",
      "      |   'exact_string'       - is the field value an exact string match for 'param1'?\n",
      "      |   'contains_string'    - is the field value a char array that contains 'param1'?\n",
      "      |   'exact_number'       - is the field value exactly 'param1' (same size and values)?\n",
      "      |   'lessthan'           - is the field value less than 'param1' (and comparable size)\n",
      "      |   'lessthaneq'         - is the field value less than or equal to 'param1' (and comparable size)\n",
      "      |   'greaterthan'        - is the field value greater than 'param1' (and comparable size)\n",
      "      |   'greaterthaneq'      - is the field value greater than or equal to 'param1' (and comparable size)\n",
      "      |   'hasfield'           - is the field present? (no role for 'param1' or 'param2')\n",
      "      |   'hasanysubfield_contains_string' - Is the field value an array of structs or cell array of structs\n",
      "      |                        such that any has a field named 'param1' with a string that contains the string\n",
      "      |                        in 'param2'?\n",
      "      |   'or'                 - are any of the searchstruct elements specified in 'param1' true?\n",
      "      |   'isa'                - is 'param1' either a superclass or the document class itself of the NDI_DOCUMENT?\n",
      "      |   'depends_on'         - does the document depend on an item with name 'param1' and value 'param2'?\n",
      "      |----------------------|\n",
      "  param1                     | Search parameter 1. Meaning depends on 'operation' (see above).\n",
      "  param2                     | Search parameter 2. Meaning depends on 'operation' (see above).\n",
      "  ---------------------------------------------------------------------------\n",
      "  See FIELDSEARCH for full documentation of the search structure.\n",
      "   \n",
      "  There are a few creator options:\n",
      " \n",
      "  NDI_QUERY_OBJ = NDI_QUERY(SEARCHSTRUCT)\n",
      " \n",
      "  Accepts a SEARCHSTRUCT with the fields above\n",
      " \n",
      "  NDI_QUERY_OBJ = NDI_QUERY(SEARCHCELLARRAY)\n",
      " \n",
      "  Accepts a cell array with SEARCHCELLARRAY = {'property1',value1,'property2',value2, ...}\n",
      "  This query is converted into a SEARCHSTRUCT with the 'regexp' operator.\n",
      " \n",
      "  NDI_QUERY_OBJ = NDI_QUERY(FIELD, OPERATION, PARAM1, PARAM2)\n",
      " \n",
      "   creates a SEARCHSTRUCT with the fields of the appropriate names.\n",
      "\n",
      "    Reference page in Doc Center\n",
      "       doc ndi_query\n",
      "\n",
      "\n"
     ]
    }
   ],
   "source": [
    "help ndi_query % see more methods"
   ]
  },
  {
   "cell_type": "markdown",
   "metadata": {},
   "source": [
    "Every **ndi_document** also contains a binary \"fork\" that can be used to store / retrieve binary data. One can retrieve the binary object with `ndi_experiment/database_openbinarydoc`. When the binary portion is open, it is also locked so that other processes cannot write to it. Therefore, it is necessary to close the binary doc when one is inished."
   ]
  },
  {
   "cell_type": "code",
   "execution_count": 24,
   "metadata": {},
   "outputs": [
    {
     "name": "stdout",
     "output_type": "stream",
     "text": [
      "Storing [0 1 2 3 4 5 6 7 8 9]...\n"
     ]
    }
   ],
   "source": [
    "binarydoc = E.database_openbinarydoc(doc);\n",
    "disp(['Storing ' mat2str(0:9) '...'])\n",
    "binarydoc.fwrite(char([0:9]),'char');\n",
    "binarydoc = E.database_closebinarydoc(binarydoc);\n"
   ]
  },
  {
   "cell_type": "markdown",
   "metadata": {},
   "source": [
    "Let's search for the doc and read its contents:"
   ]
  },
  {
   "cell_type": "code",
   "execution_count": 25,
   "metadata": {},
   "outputs": [
    {
     "name": "stdout",
     "output_type": "stream",
     "text": [
      "About to read stored data: \n",
      "\n",
      "data =\n",
      "\n",
      "     0     1     2     3     4     5     6     7     8     9\n",
      "\n"
     ]
    }
   ],
   "source": [
    "finddoc = E.database_search(q_exp & q_species & q_doctype);\n",
    "findbinary = E.database_openbinarydoc(finddoc{1});\n",
    "disp('About to read stored data: ');\n",
    "data = double(findbinary.fread(10,'char'))',\n",
    "findbinary = E.database_closebinarydoc(findbinary);\n"
   ]
  },
  {
   "cell_type": "markdown",
   "metadata": {},
   "source": [
    "Now let's reset the demo by removing our document."
   ]
  },
  {
   "cell_type": "code",
   "execution_count": 27,
   "metadata": {},
   "outputs": [],
   "source": [
    "doc = E.database_search({'subject.id','vhlab12345'});\n",
    "E.database_rm(doc{1}.id()); % E.database_rm(doc) works, too"
   ]
  },
  {
   "cell_type": "markdown",
   "metadata": {},
   "source": [
    "We've now covered the basics of documents and the database with one exception. Many of our documents **depend on** the content of other documents in some important way such that a given document isn't interpretible on its own. For example, let's look at the `stimulus_response.json` document type:"
   ]
  },
  {
   "cell_type": "code",
   "execution_count": 28,
   "metadata": {},
   "outputs": [
    {
     "name": "stdout",
     "output_type": "stream",
     "text": [
      "\n",
      "{\n",
      "\t\"document_class\": {\n",
      "\t\t\"definition\":\t\t\t\t\t\t\"$NDIDOCUMENTPATH\\/stimulus\\/stimulus_response.json\",\n",
      "\t\t\"validation\":\t\t\t\t\t\t\"$NDISCHEMAPATH\\/stimulus\\/stimulus_response_schema.json\",\n",
      "\t\t\"class_name\":\t\t\t\t\t\t\"ndi_document_stimulus_stimulus_response\",\n",
      "\t\t\"class_version\":\t\t\t\t\t1,\n",
      "\t\t\"superclasses\": [\n",
      "\t\t\t{ \"definition\":                                 \"$NDIDOCUMENTPATH\\/ndi_document.json\"}\n",
      "\t\t]\n",
      "\t},\n",
      "\t\"depends_on\": [\n",
      "\t\t{\t\"name\": \"thing_id\",\n",
      "\t\t\t\"value\": []\n",
      "\t\t},\n",
      "\t\t{\t\"name\": \"stimulator_id\",\n",
      "\t\t\t\"value\": []\n",
      "\t\t}, \n",
      "\t\t{\t\"name\": \"stimulus_presentation_id\",\n",
      "\t\t\t\"value\": []\n",
      "\t\t},\n",
      "\t\t{\t\"name\": \"stimulus_control_id\",\n",
      "\t\t\t\"value\": []\n",
      "\t\t}\n",
      "\t],\n",
      "\t\"stimulus_response\": {\n",
      "\t\t\"stimulator_epochid\":\t\t\t\t\t\t[],\n",
      "\t\t\"thing_epochid\":\t\t\t\t\t\t[]\n",
      "\t}\n",
      "}\n",
      "\n"
     ]
    }
   ],
   "source": [
    "type stimulus_response.json"
   ]
  },
  {
   "cell_type": "markdown",
   "metadata": {},
   "source": [
    "As you can see, this document type depends on a number of other documents, including the id of the stimulator, a document that describes the stimulus_presentations, a document that describes which stimuli serve as controls for each stimulus presentation, and the thing (the item that is giving a response to the stimulus). \n",
    "\n",
    "Right now we won't get into it, but we can create search queries to find a document that depends on another document:"
   ]
  },
  {
   "cell_type": "code",
   "execution_count": 29,
   "metadata": {},
   "outputs": [
    {
     "name": "stdout",
     "output_type": "stream",
     "text": [
      "\n",
      "q_depends = \n",
      "\n",
      "  ndi_query with properties:\n",
      "\n",
      "    searchstructure: [1x1 struct]\n",
      "\n"
     ]
    }
   ],
   "source": [
    "q_depends = ndi_query('','depends_on','thing_id','12345')"
   ]
  },
  {
   "cell_type": "markdown",
   "metadata": {},
   "source": [
    "We also have special functions that can search across the whole database for dependencies of a given objects or to find objects that have missing dependencies:"
   ]
  },
  {
   "cell_type": "code",
   "execution_count": 31,
   "metadata": {},
   "outputs": [
    {
     "name": "stdout",
     "output_type": "stream",
     "text": [
      "  NDI_FINDALLDEPENDENCIES- find documents that have dependencies on documents that do not exist\n",
      " \n",
      "  [D] = NDI_FINDALLDEPENDENCIES(E, VISITED, DOC1, DOC2, ...)\n",
      " \n",
      "  Searches the database of experiment E and returns all documents that have a \n",
      "  dependency ('depends_on') field for which the 'value' field corresponds to the\n",
      "  id of DOC1 or DOC2, etc. If any DOCS do not need to be searched, provide them in VISITED.\n",
      "  Otherwise, provide empty for VISITED.\n",
      " \n",
      "  D is always a cell array of NDI_DOCUMENTS (perhaps empty, {}).\n",
      "\n"
     ]
    }
   ],
   "source": [
    "help ndi_findalldependencies"
   ]
  },
  {
   "cell_type": "code",
   "execution_count": 32,
   "metadata": {},
   "outputs": [
    {
     "name": "stdout",
     "output_type": "stream",
     "text": [
      "  NDI_FINDDOCS_MISSING_DEPENDENCIES - find documents that have dependencies on documents that do not exist\n",
      " \n",
      "  D = NDI_FINDDOCS_MISSING_DEPENDENCIES(E)\n",
      " \n",
      "  Searches the database of experiment E and returns all documents that have a \n",
      "  dependency ('depends_on') field for which the 'value' field does not \n",
      "  correspond to an existing document.\n",
      " \n",
      "  The following form:\n",
      " \n",
      "  D = NDI_FINDDOCS_MISSING_DEPENDENCIES(E, NAME1, NAME2, ...)\n",
      "   \n",
      "  works similarly except that it only examines variables with depends_on\n",
      "  fields with names NAME1, NAME2, etc.\n",
      "\n"
     ]
    }
   ],
   "source": [
    "help ndi_finddocs_missing_dependencies"
   ]
  },
  {
   "cell_type": "markdown",
   "metadata": {},
   "source": [
    "Right now, the function `ndi_experiment/database_rm()` will remove all of the dependencies of any ndi_document that is deleted from the database. Down the road, we might want to have this function in the database itself, and have it require permissions. The current database is running as though everyone has 'root' permissions but we want to add permissions down the road."
   ]
  },
  {
   "cell_type": "code",
   "execution_count": null,
   "metadata": {},
   "outputs": [],
   "source": []
  }
 ],
 "metadata": {
  "kernelspec": {
   "display_name": "Matlab",
   "language": "matlab",
   "name": "matlab"
  },
  "language_info": {
   "codemirror_mode": "octave",
   "file_extension": ".m",
   "help_links": [
    {
     "text": "MetaKernel Magics",
     "url": "https://metakernel.readthedocs.io/en/latest/source/README.html"
    }
   ],
   "mimetype": "text/x-octave",
   "name": "matlab",
   "version": "0.16.7"
  }
 },
 "nbformat": 4,
 "nbformat_minor": 2
}
