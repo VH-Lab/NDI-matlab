{
 "cells": [
  {
   "cell_type": "markdown",
   "metadata": {},
   "source": [
    "# JSON Validation Java Tutorial\n",
    "This tutorial will show you how to validate a JSON document and create a customized string format tag using the Java classes in the com.ndi package. We will start this tutorial with a brief introduction to JSON Schema and the format tag."
   ]
  },
  {
   "cell_type": "markdown",
   "metadata": {},
   "source": [
    "## A brief introduction to JSON Schema and com.ndi package\n",
    "\n",
    "For this project, JSON documents are used to represent instances of our ndi classes, which include ndi_session, ndi_daqreader, ndi_daqsystem and many others ndi classes. Every JSON file consists of a series of key-value pairs, each of which stores a class's field and its value. Therefore, before storing a JSON file into the database, it is crucial to ensure that the json file has the desired format. To do so, we need to create a JSON schema document for each class that we wish to validate.\n",
    "\n",
    "A JSON Schmea is a special type of JSON file that is used to specify the expected data type for each value in a JSON document. We will provide a concrete example to further clarify our explanation. Say that we have an instance of ndi_subject which consits of two fields: **local_identifier** and **description**, we can represents this instance of ndi_subject with the following JSON file: *sample-ndi-subject.json*"
   ]
  },
  {
   "cell_type": "markdown",
   "metadata": {},
   "source": [
    "<pre>\n",
    "<code>\n",
    "<b>sample-ndi-subject.json</b>\n",
    "\n",
    "    {\n",
    "        \"local_identifier\" : \"subject@brandeis.edu\",\n",
    "        \"description\" : \"this is a dummy subject\"\n",
    "    }\n",
    "</code>\n",
    "</pre>"
   ]
  },
  {
   "cell_type": "markdown",
   "metadata": {},
   "source": [
    "Clearly both local_identifier and description have to be string, something like such will be invalid"
   ]
  },
  {
   "cell_type": "markdown",
   "metadata": {},
   "source": [
    "<pre>\n",
    "<code>\n",
    "<b>sample-ndi-subject-wrong-type.json</b>\n",
    "\n",
    "    {\n",
    "        \"local_identifier\" : 153,\n",
    "        \"description\" : \"this is a dummy subject\"\n",
    "    }\n",
    "</code>\n",
    "</pre>"
   ]
  },
  {
   "cell_type": "markdown",
   "metadata": {},
   "source": [
    "In order to enforce that both the field **local_identifier** and the field **description** to be string, we can create a JSON schema document. Let's call it *ndi_document_subject_schema.json*."
   ]
  },
  {
   "cell_type": "markdown",
   "metadata": {},
   "source": [
    "<pre>\n",
    "<code>\n",
    "<b>ndi_document_subject_schema.json</b>\n",
    "\n",
    "    {\n",
    "        \"$schema\": \"http://json-schema.org/draft/2019-09/schema#\",\n",
    "        \"id\": \"$NDISCHEMAPATH\\/ndi_document_subject_schema.json\",\n",
    "        \"title\": \"ndi_document_subject\",\n",
    "        \"type\": \"object\",\n",
    "        \"properties\": {\n",
    "            \"local_identifier\": {\n",
    "                \"type\": \"string\"\n",
    "            },\n",
    "            \"description\": {\n",
    "                \"type\": \"string\"\n",
    "            }\n",
    "        }\n",
    "    }\n",
    "</code>\n",
    "</pre>"
   ]
  },
  {
   "cell_type": "markdown",
   "metadata": {},
   "source": [
    "The **\"$schema\"** tag tells us the official json_schema specification we are using. You can read the specification document using this linke: \"http://json-schema.org/draft/2019-09/schema#\". The  **\"id\"** tag represents the identifier of the JSON schema document. The **\"title\"** tag specifies the name of the associated JSON document. All of the three above tags are semantic tags (or annotation). That is, they don't have an impact on the validation outcome. \n",
    "\n",
    "The **\"type\"** tag specifies the expected data type of each value of the JSON document. Here ndi_document_subject represents a MATLAB object, so we let the type to be \"object\". Next within the properties tag, we need to specify the expected data type for each fields of this object. Here we want both the fields \"local_identifier\" and \"description\" to be a string. You can read more about the vocabulary and the expected document structure of the JSON Schema file through this linke: \"https://json-schema.org/understanding-json-schema\n",
    "\n",
    "\n",
    "The classes within the package com.ndi, which can be found in ndi-validator-java.jar file, proivde methods that can be called from MATLAB to validate a JSON instance (in fact, this is precisely what *ndi_validate.m* does). Particularly, the com.ndi.Validator class, which is a wrapper around org.everit's implementation of JSON Schema. You can check out their source code here: https://github.com/everit-org/json-schema/tree/master/core/src/main/java/org/everit/json/schema. We will explain how to use those methods in the next section of this tutorial."
   ]
  },
  {
   "cell_type": "markdown",
   "metadata": {},
   "source": [
    "## Validating JSON Document\n",
    "\n",
    "Our next task is to use the Validator class within the com.ndi package to validate the JSON Document. First we need to import the Validator class from the com.ndi package. If you are curious, you can check out its implementation through this : https://github.com/VH-Lab/NDI-matlab/blob/document_validation_2/database/java/ndi-validator-java/src/main/java/com/ndi/Validator.java"
   ]
  },
  {
   "cell_type": "code",
   "execution_count": 1,
   "metadata": {},
   "outputs": [],
   "source": [
    "import com.ndi.Validator;"
   ]
  },
  {
   "cell_type": "markdown",
   "metadata": {},
   "source": [
    "There are two ways to construct a new instance of the Validator class. Here are the method signature of the Validaotr's constructor."
   ]
  },
  {
   "cell_type": "markdown",
   "metadata": {},
   "source": [
    "<pre>\n",
    "<code>\n",
    "<b>public</b> Validator(<b>String</b> document, <b>String</b> schema)\n",
    "\n",
    "<b>public</b> Validator(<b>JSONObject</b> document, <b>JSONObject</b> schema)\n",
    "</code>\n",
    "</pre>"
   ]
  },
  {
   "cell_type": "markdown",
   "metadata": {},
   "source": [
    "**The first constructor takes two parameters**:\n",
    "\n",
    "<ul>\n",
    "    <li> <b> document</b>: this represents the content of the JSON document we wish to validate</li>\n",
    "    <li> <b> schema</b>: this represents the content of the JSON schema document we wish to validate the document against</li>\n",
    "</ul>\n",
    "\n",
    "**The second constructor also takes two parameters**:\n",
    "<ul>\n",
    "    <li> <b> document</b>: same as what the first constructor takes, except document needs to be an instance of org.json.JSONObject</li>\n",
    "    <li> <b> schema</b>: again, same as what constructor takes, but JSON document needs to be wrapped inside org.json.JSONObject</li>\n",
    "</ul>\n",
    "\n",
    "An example will make will hopefully makes our explaination clear. Let's try to validate the *sample-ndi-subject.json* we have created above against the *ndi_document_subject_schema.json*. We will construct a Validator object using the first constructor first:"
   ]
  },
  {
   "cell_type": "code",
   "execution_count": 2,
   "metadata": {},
   "outputs": [],
   "source": [
    "//the file content of the sample-ndi-subject.json\n",
    "\n",
    "String document = \"{\\n\" +\n",
    "                \"    local_identifier : \\\"subject@brandeis.edu\\\",\\n\" +\n",
    "                \"    description : \\\"this is a dummy subject\\\"\\n\" +\n",
    "                \"}\";"
   ]
  },
  {
   "cell_type": "code",
   "execution_count": 3,
   "metadata": {},
   "outputs": [],
   "source": [
    "//the file content of the ndi_document_subject_schema.json\n",
    "\n",
    "String schema = \"{\\n\" +\n",
    "            \"    \\\"$schema\\\": \\\"http://json-schema.org/draft/2019-09/schema#\\\",\\n\" +\n",
    "            \"    \\\"id\\\": \\\"$NDISCHEMAPATH\\\\/ndi_document_subject_schema.json\\\",\\n\" +\n",
    "            \"    \\\"title\\\": \\\"ndi_document_subject\\\",\\n\" +\n",
    "            \"    \\\"type\\\": \\\"object\\\",\\n\" +\n",
    "            \"    \\\"properties\\\": {\\n\" +\n",
    "            \"        \\\"local_identifier\\\": {\\n\" +\n",
    "            \"            \\\"type\\\": \\\"string\\\"\\n\" +\n",
    "            \"        },\\n\" +\n",
    "            \"        \\\"description\\\": {\\n\" +\n",
    "            \"            \\\"type\\\": \\\"string\\\"\\n\" +\n",
    "            \"        }\\n\" +\n",
    "            \"    }\\n\" +\n",
    "            \"}\";"
   ]
  },
  {
   "cell_type": "markdown",
   "metadata": {},
   "source": [
    "document and schema represent the actual JSON content as string"
   ]
  },
  {
   "cell_type": "code",
   "execution_count": 4,
   "metadata": {},
   "outputs": [],
   "source": [
    "Validator ndi_subject_validator = new Validator(document, schema);"
   ]
  },
  {
   "cell_type": "markdown",
   "metadata": {},
   "source": [
    "Next we will call the Validator's instance method getReport() to get a detailed report of our validation. This method returns an instance of java.util.HashMap, which tells you the part of the JSON document that has a type error."
   ]
  },
  {
   "cell_type": "code",
   "execution_count": 5,
   "metadata": {},
   "outputs": [
    {
     "data": {
      "text/plain": [
       "{}"
      ]
     },
     "execution_count": 5,
     "metadata": {},
     "output_type": "execute_result"
    }
   ],
   "source": [
    "ndi_subject_validator.getReport()"
   ]
  },
  {
   "cell_type": "markdown",
   "metadata": {},
   "source": [
    "We get an empty HashMap, which means that our JSON document does not contain any type error. Both the local_identifier field and the description field were initialized to be a string. This confirms that our JSON document is valid. Next, let's see what happen if we entered an invalid value to initialize one of our fields:"
   ]
  },
  {
   "cell_type": "code",
   "execution_count": 6,
   "metadata": {},
   "outputs": [],
   "source": [
    "//the file content of the sample-ndi-subject-wrong-type.json\n",
    "\n",
    "String document = \"{\\n\" +\n",
    "                \"    local_identifier : 153,\\n\" +\n",
    "                \"    description : \\\"this is a dummy subject\\\"\\n\" +\n",
    "                \"}\";"
   ]
  },
  {
   "cell_type": "code",
   "execution_count": 7,
   "metadata": {},
   "outputs": [
    {
     "data": {
      "text/plain": [
       "{#/local_identifier=#/local_identifier: expected type: String, found: Integer}"
      ]
     },
     "execution_count": 7,
     "metadata": {},
     "output_type": "execute_result"
    }
   ],
   "source": [
    "Validator ndi_subject = new Validator(document, schema);\n",
    "ndi_subject.getReport();"
   ]
  },
  {
   "cell_type": "markdown",
   "metadata": {},
   "source": [
    "We got an instance of HashMap, which tells us that the field \"local_identifier\" is a Integer, which is supposed to be a string based on the schema document we've passed in. Our validation fails just as what we would have expected. We can also validate our JSON document by passing in an instance of org.JSONObject instead of a string. The reason we have a second constructor is that we can initialize a JSONObject by passing in the file path to the JSON document as opposed to its content:\n",
    "\n",
    "To create an instance of JSONObject from a file path, we need to wrap the file path inside a InputFileStream object. Then wrap that InputFileStream object inside a JSONTokner Object, and finally pass that JSONTokener object to the JSONObject constructor. Suppose we have created the files \"sample-ndi-subject-wrong-type.json\" and \"ndi_document_subject_schema.json\" (yes they are the exact same file we have used in our earlier example) in our java classpath. We use a try-with-resource block to safely read those files. To learn more about Java's try-with resource block and IO syntax, check out this link: https://docs.oracle.com/javase/tutorial/essential/exceptions/tryResourceClose.html. "
   ]
  },
  {
   "cell_type": "code",
   "execution_count": 8,
   "metadata": {},
   "outputs": [],
   "source": [
    "import org.json.JSONObject;\n",
    "import org.json.JSONTokener;\n",
    "import java.io.FileInputStream;\n",
    "import java.io.InputStream;\n",
    "\n",
    "JSONObject document;\n",
    "JSONObject schema;\n",
    "\n",
    "try(InputStream schemaFile = new FileInputStream(\"/Users/yixin/Documents/ndi-validator-java/src/main/resources/sample-ndi-subject-wrong-type.json\");\n",
    "    InputStream documentFile = new FileInputStream(\"/Users/yixin/Documents/ndi-validator-java/src/main/resources/ndi_document_subject_schema.json\")){\n",
    "    document = new JSONObject(new JSONTokener(documentFile));\n",
    "    schema = new JSONObject(new JSONTokener(schemaFile));\n",
    "}"
   ]
  },
  {
   "cell_type": "markdown",
   "metadata": {},
   "source": [
    "Verify that we have successfully loaded the JSON file from disk"
   ]
  },
  {
   "cell_type": "code",
   "execution_count": 9,
   "metadata": {},
   "outputs": [
    {
     "data": {
      "text/plain": [
       "{\"$schema\":\"http://json-schema.org/draft/2019-09/schema#\",\"id\":\"$NDISCHEMAPATH/ndi_document_subject_schema.json\",\"title\":\"ndi_document_subject\",\"type\":\"object\",\"properties\":{\"local_identifier\":{\"type\":\"string\"},\"description\":{\"type\":\"string\"}}}"
      ]
     },
     "execution_count": 9,
     "metadata": {},
     "output_type": "execute_result"
    }
   ],
   "source": [
    "document"
   ]
  },
  {
   "cell_type": "code",
   "execution_count": 10,
   "metadata": {},
   "outputs": [
    {
     "data": {
      "text/plain": [
       "{\"local_identifier\":153,\"description\":\"this is a dummy subject\"}"
      ]
     },
     "execution_count": 10,
     "metadata": {},
     "output_type": "execute_result"
    }
   ],
   "source": [
    "schema"
   ]
  },
  {
   "cell_type": "markdown",
   "metadata": {},
   "source": [
    "Next, we just pass those instances of JSONObject into our constructor:"
   ]
  },
  {
   "cell_type": "code",
   "execution_count": 11,
   "metadata": {},
   "outputs": [
    {
     "data": {
      "text/plain": [
       "{#/local_identifier=#/local_identifier: expected type: String, found: Integer}"
      ]
     },
     "execution_count": 11,
     "metadata": {},
     "output_type": "execute_result"
    }
   ],
   "source": [
    "Validator validator = new Validator(schema, document);\n",
    "validator.getReport();"
   ]
  },
  {
   "cell_type": "markdown",
   "metadata": {},
   "source": [
    "We've got what we would have expected, an error message identifying the appropriate type mismatch error. You've got through the first part of the tutorial successfully. Next we will discuss how we can define our own JSON Schema vocabulary (the format keyword). "
   ]
  },
  {
   "cell_type": "markdown",
   "metadata": {},
   "source": [
    "## Creating your own format keyword within the string type"
   ]
  },
  {
   "cell_type": "markdown",
   "metadata": {},
   "source": [
    "In the previous section, we saw how we could restrict the values of a JSON document to a data type. However, what if we want our string to be in a specific format. For instance, what if we want our value to be a valid email address. The official JSON Schema specification allows us to use the format tag to enforce the string to contains a particular pattern. In fact, the official JSON Schema Specification offers the following built-in formats including:\n",
    "\n",
    "<ul>\n",
    "    <li>\"date-time\"</li>\n",
    "    <li>\"email\"</li>\n",
    "    <li>\"hostname\"</li>\n",
    "    <li>\"ipv4\"</li>\n",
    "    <li>\"ipv6\"</li>\n",
    "    <li>\"uri\"</li>\n",
    "</ul>\n",
    "\n",
    "See the full list here: https://json-schema.org/understanding-json-schema/reference/string.html#format"
   ]
  },
  {
   "cell_type": "markdown",
   "metadata": {},
   "source": [
    "To make our explination clearer, let's try to validate a JSON document, one of whose value is supposed to be an email address"
   ]
  },
  {
   "cell_type": "markdown",
   "metadata": {},
   "source": [
    "<pre>\n",
    "<code>\n",
    "<b>studentA.json</b>\n",
    "\n",
    "    {\n",
    "        \"name\" : \"studentA\",\n",
    "        \"email-address\" : \"studentA@brandeis.edu\"\n",
    "    }\n",
    "</code>\n",
    "</pre>"
   ]
  },
  {
   "cell_type": "markdown",
   "metadata": {},
   "source": [
    "<pre>\n",
    "<code>\n",
    "<b>studentB.json</b>\n",
    "\n",
    "    {\n",
    "        \"name\" : \"studentB\",\n",
    "        \"email-address\" : \"badEmailAddress!%^@\"\n",
    "    }\n",
    "</code>\n",
    "</pre>"
   ]
  },
  {
   "cell_type": "markdown",
   "metadata": {},
   "source": [
    "<pre>\n",
    "<code>\n",
    "<b>student_schema.json</b>\n",
    "\n",
    "    {\n",
    "        \"$schema\": \"http://json-schema.org/draft/2019-09/schema#\",\n",
    "        \"id\": \"$NDISCHEMAPATH\\/student_schema.json\",\n",
    "        \"title\": \"student\",\n",
    "        \"type\": \"object\",\n",
    "        \"properties\": {\n",
    "            \"name\": {\n",
    "                \"type\": \"string\"\n",
    "            },\n",
    "            \"email-address\": {\n",
    "                \"type\": \"string\",\n",
    "                \"format\" : \"email\"\n",
    "            }\n",
    "        }\n",
    "    }\n",
    "</code>\n",
    "</pre>"
   ]
  },
  {
   "cell_type": "markdown",
   "metadata": {},
   "source": [
    "As you can see, we add a \"format\" tag in this student_schema.json for the field \"email-address\". Our validator will not only check if the value is type string but also verify if this is indeed a valid email address. We will run both studentA.json and studentB.json against our student_schema.json. "
   ]
  },
  {
   "cell_type": "code",
   "execution_count": 12,
   "metadata": {},
   "outputs": [],
   "source": [
    "//the file content of studentA.json\n",
    "String studentA = \"{\\n\" +\n",
    "                    \"\\\"name\\\" : \\\"studentA\\\",\\n\" +\n",
    "                    \" \\\"email-address\\\" : \\\"studentA@brandeis.edu\\\"\\n\" +\n",
    "                    \"}\";"
   ]
  },
  {
   "cell_type": "code",
   "execution_count": 13,
   "metadata": {},
   "outputs": [],
   "source": [
    "//the file content of studentB.json\n",
    "String studentB = \" {\\n\" +\n",
    "                  \" \\\"name\\\" : \\\"studentB\\\",\\n\" +\n",
    "                  \" \\\"email-address\\\" : \\\"badEmailAddress!%^@\\\"\\n\" +\n",
    "                  \" }\";"
   ]
  },
  {
   "cell_type": "code",
   "execution_count": 14,
   "metadata": {},
   "outputs": [],
   "source": [
    "//the file content of student_schema.json\n",
    "String studentSchema =  \"{\\n\" +\n",
    "                        \"        \\\"$schema\\\": \\\"http://json-schema.org/draft/2019-09/schema#\\\",\\n\" +\n",
    "                        \"        \\\"id\\\": \\\"$NDISCHEMAPATH\\\\/student_schema.json\\\",\\n\" +\n",
    "                        \"        \\\"title\\\": \\\"student\\\",\\n\" +\n",
    "                        \"        \\\"type\\\": \\\"object\\\",\\n\" +\n",
    "                        \"        \\\"properties\\\": {\\n\" +\n",
    "                        \"            \\\"name\\\": {\\n\" +\n",
    "                        \"                \\\"type\\\": \\\"string\\\"\\n\" +\n",
    "                        \"            },\\n\" +\n",
    "                        \"            \\\"email-address\\\": {\\n\" +\n",
    "                        \"                \\\"type\\\": \\\"string\\\",\\n\" +\n",
    "                        \"                \\\"format\\\" : \\\"email\\\"\\n\" +\n",
    "                        \"            }\\n\" +\n",
    "                        \"        }\\n\" +\n",
    "                        \"    }\";"
   ]
  },
  {
   "cell_type": "code",
   "execution_count": 15,
   "metadata": {},
   "outputs": [],
   "source": [
    "// initialize our validators\n",
    "Validator validatorForStudentA = new Validator(studentA, studentSchema);\n",
    "Validator validatorForStudentB = new Validator(studentB, studentSchema);"
   ]
  },
  {
   "cell_type": "code",
   "execution_count": 16,
   "metadata": {},
   "outputs": [
    {
     "data": {
      "text/plain": [
       "{}"
      ]
     },
     "execution_count": 16,
     "metadata": {},
     "output_type": "execute_result"
    }
   ],
   "source": [
    "validatorForStudentA.getReport()"
   ]
  },
  {
   "cell_type": "code",
   "execution_count": 17,
   "metadata": {},
   "outputs": [
    {
     "data": {
      "text/plain": [
       "{#/email-address=#/email-address: [badEmailAddress!%^@] is not a valid email address}"
      ]
     },
     "execution_count": 17,
     "metadata": {},
     "output_type": "execute_result"
    }
   ],
   "source": [
    "validatorForStudentB.getReport()"
   ]
  },
  {
   "cell_type": "markdown",
   "metadata": {},
   "source": [
    "Just as what we would have expected, our validator is capable of detecting invalid email address. Next what if we want our string to be in a particular format that the JSON Schema specification does not have. We can implement this logic by ourselves. This requires us to implements the org.everit.json.schema.FormatValidator interface. We will demonstrate how to achieve that through a concrete example. Suppose we want our validator to only accept email address that comes from @brandeis.edu email address. That is, \"@\" must be followed by \"brandeis.edu\".\n",
    "\n",
    "Let's create a class called BrandeisEmailValidator that implements the org.everit.json.schema.FormatValidator interface:"
   ]
  },
  {
   "cell_type": "code",
   "execution_count": 18,
   "metadata": {},
   "outputs": [],
   "source": [
    "import org.everit.json.schema.FormatValidator;\n",
    "\n",
    "public class BrandeisEmailValidator implements FormatValidator{\n",
    "    \n",
    "    @Override\n",
    "    public Optional<String> validate(String subject){\n",
    "        int separator = subject.indexOf(\"@\");\n",
    "        if (separator == -1 || !subject.substring(separator).equals(\"@brandeis.edu\")){\n",
    "            return Optional.of(\"requires a brandeis.edu email\");\n",
    "        }\n",
    "        return Optional.empty();\n",
    "    }\n",
    "    \n",
    "    @Override\n",
    "    public String formatName(){\n",
    "        return \"brandeis-email\";\n",
    "    }\n",
    "}"
   ]
  },
  {
   "cell_type": "markdown",
   "metadata": {},
   "source": [
    "<p>The two methods we have to override are the public Optional&lt;String&gt; validate(String subject) method, which takes an user input and check if it is a valid Brandeis email address, and another method: public String formatName(), which simply returns the format keyword that we want the validator to recognize when it parses the json schema document. As the method signature suggests, the first method needs to return a string wrapped inside the Optional container object. If something went wrong, the string will represent the error message, otherwise we return an empty Optional container object to indicate that no type error has found. Let's test it out. Modify the email address in studentA.json and studentB.json. Only student B has a valid brandeis email address</p>"
   ]
  },
  {
   "cell_type": "markdown",
   "metadata": {},
   "source": [
    "<pre>\n",
    "<code>\n",
    "<b>studentA.json</b>\n",
    "\n",
    "    {\n",
    "        \"name\" : \"studentA\",\n",
    "        \"email-address\" : \"studentA@bu.edu\"\n",
    "    }\n",
    "</code>\n",
    "</pre>"
   ]
  },
  {
   "cell_type": "markdown",
   "metadata": {},
   "source": [
    "<pre>\n",
    "<code>\n",
    "<b>studentB.json</b>\n",
    "\n",
    "    {\n",
    "        \"name\" : \"studentB\",\n",
    "        \"email-address\" : \"studentB@brandeis.edu\"\n",
    "    }\n",
    "</code>\n",
    "</pre>"
   ]
  },
  {
   "cell_type": "markdown",
   "metadata": {},
   "source": [
    "<pre>\n",
    "<code>\n",
    "<b>student_schema.json</b>\n",
    "\n",
    "    {\n",
    "        \"$schema\": \"http://json-schema.org/draft/2019-09/schema#\",\n",
    "        \"id\": \"$NDISCHEMAPATH\\/student_schema.json\",\n",
    "        \"title\": \"student\",\n",
    "        \"type\": \"object\",\n",
    "        \"properties\": {\n",
    "            \"name\": {\n",
    "                \"type\": \"string\"\n",
    "            },\n",
    "            \"email-address\": {\n",
    "                \"type\": \"string\",\n",
    "                \"format\" : \"brandeis-email\"\n",
    "            }\n",
    "        }\n",
    "    }\n",
    "</code>\n",
    "</pre>"
   ]
  },
  {
   "cell_type": "code",
   "execution_count": 19,
   "metadata": {},
   "outputs": [],
   "source": [
    "//the file content of studentA.json\n",
    "String studentA = \"{\\n\" +\n",
    "                    \"\\\"name\\\" : \\\"studentA\\\",\\n\" +\n",
    "                    \" \\\"email-address\\\" : \\\"studentA@bu.edu\\\"\\n\" +\n",
    "                    \"}\";"
   ]
  },
  {
   "cell_type": "code",
   "execution_count": 20,
   "metadata": {},
   "outputs": [],
   "source": [
    "//the file content of studentB.json\n",
    "String studentB = \" {\\n\" +\n",
    "                  \" \\\"name\\\" : \\\"studentB\\\",\\n\" +\n",
    "                  \" \\\"email-address\\\" : \\\"studentB@brandeis.edu\\\"\\n\" +\n",
    "                  \" }\";"
   ]
  },
  {
   "cell_type": "code",
   "execution_count": 21,
   "metadata": {},
   "outputs": [],
   "source": [
    "//the file content of student_schema.json\n",
    "String studentSchema =  \"{\\n\" +\n",
    "                        \"        \\\"$schema\\\": \\\"http://json-schema.org/draft/2019-09/schema#\\\",\\n\" +\n",
    "                        \"        \\\"id\\\": \\\"$NDISCHEMAPATH\\\\/student_schema.json\\\",\\n\" +\n",
    "                        \"        \\\"title\\\": \\\"student\\\",\\n\" +\n",
    "                        \"        \\\"type\\\": \\\"object\\\",\\n\" +\n",
    "                        \"        \\\"properties\\\": {\\n\" +\n",
    "                        \"            \\\"name\\\": {\\n\" +\n",
    "                        \"                \\\"type\\\": \\\"string\\\"\\n\" +\n",
    "                        \"            },\\n\" +\n",
    "                        \"            \\\"email-address\\\": {\\n\" +\n",
    "                        \"                \\\"type\\\": \\\"string\\\",\\n\" +\n",
    "                        \"                \\\"format\\\" : \\\"brandeis-email\\\"\\n\" +\n",
    "                        \"            }\\n\" +\n",
    "                        \"        }\\n\" +\n",
    "                        \"    }\";"
   ]
  },
  {
   "cell_type": "code",
   "execution_count": 22,
   "metadata": {},
   "outputs": [],
   "source": [
    "// initialize our validators\n",
    "Validator validatorForStudentA = new Validator(studentA, studentSchema);\n",
    "Validator validatorForStudentB = new Validator(studentB, studentSchema);"
   ]
  },
  {
   "cell_type": "markdown",
   "metadata": {},
   "source": [
    "This time, we need to add our BrandeisEmailValidator class we've just written to the Validator object so that our Validator class knows which methods to call when it sees our pre-defined foramt tag \"brandeis-email\" while scanning through the schema document. This can be done through calling Validator <b>addValidator()</b> method, which returns a new instance of the Validator class with the FormatValidator added to it. "
   ]
  },
  {
   "cell_type": "code",
   "execution_count": 23,
   "metadata": {},
   "outputs": [],
   "source": [
    "validatorForStudentA = validatorForStudentA.addValidator(new BrandeisEmailValidator());\n",
    "validatorForStudentB = validatorForStudentB.addValidator(new BrandeisEmailValidator());"
   ]
  },
  {
   "cell_type": "markdown",
   "metadata": {},
   "source": [
    "Now let's check if our Validator is able to tell if our student has a Brandeis email address"
   ]
  },
  {
   "cell_type": "code",
   "execution_count": 24,
   "metadata": {},
   "outputs": [
    {
     "data": {
      "text/plain": [
       "{#/email-address=#/email-address: requires a brandeis.edu email}"
      ]
     },
     "execution_count": 24,
     "metadata": {},
     "output_type": "execute_result"
    }
   ],
   "source": [
    "validatorForStudentA.getReport()"
   ]
  },
  {
   "cell_type": "code",
   "execution_count": 25,
   "metadata": {},
   "outputs": [
    {
     "data": {
      "text/plain": [
       "{}"
      ]
     },
     "execution_count": 25,
     "metadata": {},
     "output_type": "execute_result"
    }
   ],
   "source": [
    "validatorForStudentB.getReport()"
   ]
  },
  {
   "cell_type": "markdown",
   "metadata": {},
   "source": [
    "Our validator knows if a student has a valid Brandeis email address. This completes the tutorial. Now you know how to use com.ndi.Validate to validate a JSON document and how to write your own JSON format keyword. Remeber that all the classes in the com.ndi packages are automatically added to the MATLAB javapath after ndi_Init is run, so you have access to all the classes in the package and their methods. Simply import the package and call them from MATLAB if you ever need them. "
   ]
  }
 ],
 "metadata": {
  "kernelspec": {
   "display_name": "Java",
   "language": "java",
   "name": "java"
  },
  "language_info": {
   "codemirror_mode": "java",
   "file_extension": ".jshell",
   "mimetype": "text/x-java-source",
   "name": "Java",
   "pygments_lexer": "java",
   "version": "14.0.1+7"
  }
 },
 "nbformat": 4,
 "nbformat_minor": 4
}
